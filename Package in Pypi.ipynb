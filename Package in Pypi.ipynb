{
 "cells": [
  {
   "cell_type": "markdown",
   "id": "fe5d1cea-0790-4d44-b13f-7a76387b4e73",
   "metadata": {},
   "source": [
    "## How to publish your package in Pypi "
   ]
  },
  {
   "cell_type": "markdown",
   "id": "88250230-2616-4759-b8ae-d0922538c449",
   "metadata": {},
   "source": [
    "Build your package (modules, functions etc.)\n",
    "\n",
    " my_project \n",
    "├───setup.py  # right here  \n",
    "├───requirements.txt\n",
    "└───my_package \n",
    "    ├───__init__.py \n",
    "    └───my_module.py"
   ]
  },
  {
   "cell_type": "markdown",
   "id": "56961450-f5f9-4b64-be88-3d4d4c5e2f76",
   "metadata": {},
   "source": [
    "setup.py looks like this:\n",
    "\n",
    "import setuptools\n",
    "\n",
    "setuptools.setup(\n",
    "  name=\"my_package\",        # your choice, but usually same as the package \n",
    "  version=\"0.1.0\",          # obligatory\n",
    "  packages=[\"my_package\"],  # name of the folder relative to this file where the source code lives\n",
    "  install_requires=[],      # your dependencies, if you have any\n",
    "  entry_points = {          # this here is the magic that binds your function into a callable script\n",
    "      'console_scripts': ['my_script=my_package.my_module:do_something_with_file'],\n",
    "  }\n",
    ")"
   ]
  },
  {
   "cell_type": "raw",
   "id": "dbe49591-642f-4b8a-9002-f5bbc1328a7d",
   "metadata": {},
   "source": [
    "if you want to try your package before sending it to Pypi( or TestPYpi) you can install it in two ways:\n",
    "\n",
    "1) editable (any change will be automatically updated): pip install -e .\n",
    "2) non editable way : pip install .\n",
    "\n",
    "Be sure you are in the correct directory, the one where setup.py is (in the example my_project)"
   ]
  },
  {
   "cell_type": "raw",
   "id": "86da5095-be3f-485f-82b2-f1ab184aef62",
   "metadata": {},
   "source": [
    "create a Pypi (and TestPypi) account"
   ]
  },
  {
   "cell_type": "raw",
   "id": "c962a3c2-af8b-4996-a06e-e09770b31529",
   "metadata": {},
   "source": [
    "pip install setuptools twine"
   ]
  },
  {
   "cell_type": "raw",
   "id": "800429ce-f6ce-41b4-97ed-629d8a2ebb3b",
   "metadata": {},
   "source": [
    "python setup.py sdist bdist_wheel "
   ]
  },
  {
   "cell_type": "raw",
   "id": "4e885e42-66df-4772-8be4-d3eab9fe7088",
   "metadata": {},
   "source": [
    "twine upload --repository testpypi --skip-existing dist/myProject-0.1.9-py3-none-any.whl"
   ]
  },
  {
   "cell_type": "raw",
   "id": "e59d74f3-b0dc-4d60-bd8c-bab32991c2bf",
   "metadata": {},
   "source": [
    "twine upload dist/*"
   ]
  },
  {
   "cell_type": "raw",
   "id": "faf5aa60-fc50-4b33-a719-3453bcf8d2cc",
   "metadata": {},
   "source": [
    "It will ask you about API tokens. Log in in Pypi, go to settings and generate a new token. Copy the new token in a .pypirc file in your main directory CD:\\Users\\Name"
   ]
  },
  {
   "cell_type": "raw",
   "id": "b3919a47-f7aa-4940-bb8e-d7b46189c805",
   "metadata": {},
   "source": [
    "your .pypirc file will look like this:\n",
    "\n",
    "[testpypi]\n",
    "  username = __token__\n",
    "  password = pypi-AgENdGVzdC5weXBpLm9yZwIkZjU1ZmE5ZTMtMTk0NS00YzAyLWIyYjYtZjNlOWYyNWZmNjg5AAIqWzMsIjM0NjE5NDZiLTlmYjgtNDk5NS1iYTQ4LTU2YjY3MzgwYTI1NSJdAAAGIFTV-6qgMsC-isYfiuBVDMk2dtMhtug1EZm-aUSDsGMw"
   ]
  },
  {
   "cell_type": "code",
   "execution_count": null,
   "id": "5e26a942-8a91-4d35-b145-18d0e6f8d225",
   "metadata": {},
   "outputs": [],
   "source": []
  }
 ],
 "metadata": {
  "kernelspec": {
   "display_name": "Python 3 (ipykernel)",
   "language": "python",
   "name": "python3"
  },
  "language_info": {
   "codemirror_mode": {
    "name": "ipython",
    "version": 3
   },
   "file_extension": ".py",
   "mimetype": "text/x-python",
   "name": "python",
   "nbconvert_exporter": "python",
   "pygments_lexer": "ipython3",
   "version": "3.11.5"
  }
 },
 "nbformat": 4,
 "nbformat_minor": 5
}
