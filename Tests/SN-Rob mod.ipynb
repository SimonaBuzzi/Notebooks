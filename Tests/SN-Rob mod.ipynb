{
 "cells": [
  {
   "cell_type": "code",
   "execution_count": 1,
   "id": "2e6adece-1e07-4826-b812-26c2c9e68993",
   "metadata": {},
   "outputs": [
    {
     "name": "stdout",
     "output_type": "stream",
     "text": [
      "C:\\Users\\20224751\\Downloads\\self_nucleation.csv\n"
     ]
    }
   ],
   "source": [
    "!where self_nucleation.csv"
   ]
  },
  {
   "cell_type": "code",
   "execution_count": null,
   "id": "f8d3a73c-959e-41c4-9df9-50a436770840",
   "metadata": {},
   "outputs": [],
   "source": []
  },
  {
   "cell_type": "code",
   "execution_count": 2,
   "id": "5b7a68bf-b78a-44f2-a96e-def398042b16",
   "metadata": {
    "tags": []
   },
   "outputs": [
    {
     "name": "stdout",
     "output_type": "stream",
     "text": [
      "    time       DH\n",
      "0       1  0.3560\n",
      "1       2  0.7890\n",
      "2       3  0.9849\n",
      "3       4  1.1000\n",
      "4       5  1.3920\n",
      "5       6  1.4020\n",
      "6       7  1.4500\n",
      "7       8  1.5500\n",
      "8       9  1.7800\n",
      "9      10  1.9000\n",
      "10     20  2.0100\n",
      "11     30  2.1100\n",
      "12     40  2.1100\n",
      "13     50  2.1100\n",
      "14     60  2.1100\n",
      "15     70  2.1100\n",
      "16     80  2.1100\n",
      "17     90  2.1100\n",
      "18    100  2.1100\n"
     ]
    }
   ],
   "source": [
    "import pandas as pd\n",
    "import numpy as np\n",
    "import matplotlib.pyplot as plt\n",
    "\n",
    "file_path = r'C:\\Users\\20224751\\Downloads\\self_nucleation.csv'\n",
    "\n",
    "df = pd.read_csv(file_path)\n",
    "\n",
    "print(df.to_string()) "
   ]
  },
  {
   "cell_type": "markdown",
   "id": "93305415-0be0-4d06-b18f-e3a115c7ae52",
   "metadata": {},
   "source": [
    "col.strip() is used to remove leading and trailing whitespaces from each element (or string) in a column (or Series) named col"
   ]
  },
  {
   "cell_type": "code",
   "execution_count": 3,
   "id": "9a67fa82-5528-4e51-8321-7a83ccf2f3c7",
   "metadata": {},
   "outputs": [
    {
     "name": "stdout",
     "output_type": "stream",
     "text": [
      "Index(['time', 'DH'], dtype='object')\n",
      "    time      DH\n",
      "0      1  0.3560\n",
      "1      2  0.7890\n",
      "2      3  0.9849\n",
      "3      4  1.1000\n",
      "4      5  1.3920\n",
      "5      6  1.4020\n",
      "6      7  1.4500\n",
      "7      8  1.5500\n",
      "8      9  1.7800\n",
      "9     10  1.9000\n",
      "10    20  2.0100\n",
      "11    30  2.1100\n",
      "12    40  2.1100\n",
      "13    50  2.1100\n",
      "14    60  2.1100\n",
      "15    70  2.1100\n",
      "16    80  2.1100\n",
      "17    90  2.1100\n",
      "18   100  2.1100\n"
     ]
    }
   ],
   "source": [
    "# Data frame and strip wiht spaces from csv file\n",
    "df = pd.DataFrame(df)\n",
    "df.columns = [col.strip() for col in df.columns]\n",
    "print(df.columns)\n",
    "print(df)"
   ]
  },
  {
   "cell_type": "code",
   "execution_count": 4,
   "id": "94a687a2-a636-4691-848f-52ff8d4f4cdf",
   "metadata": {},
   "outputs": [
    {
     "data": {
      "image/png": "[encoded data removed]",
      "text/plain": [
       "<Figure size 640x480 with 1 Axes>"
      ]
     },
     "metadata": {},
     "output_type": "display_data"
    }
   ],
   "source": [
    "# Plot \n",
    "df.plot(x='time', y='DH', marker='o', linestyle='-')\n",
    "plt.xlabel('Time (min)')\n",
    "plt.ylabel('DH (J/g)')\n",
    "plt.title('Enthalpy vs Time')\n",
    "plt.show()"
   ]
  },
  {
   "cell_type": "markdown",
   "id": "2a8253dd-4c17-4afa-b69c-b3398950f599",
   "metadata": {},
   "source": [
    "Provide an initial guess for the parameters (DHinf, k, tzero, and n). This is necessary for the optimization algorithm to start the process. You might base your initial guess on some knowledge of the system or by visually inspecting the data.\n",
    "Define the Model Function (DH):you start with a model function, in your case, DH(t, DHinf, k, tzero, n).\n",
    "Collect Experimental Data: you have experimental data, represented by arrays t_data and a_data (a_data=DH)"
   ]
  },
  {
   "cell_type": "markdown",
   "id": "0100409c-0a1d-4d15-a6f2-9c22ac67dfb7",
   "metadata": {},
   "source": [
    "\\begin{equation}\n",
    " DH(t) = DH_\\infty (1 - \\Exp(- k (t-t_0)^n)\n",
    "\\end{equation}"
   ]
  },
  {
   "cell_type": "markdown",
   "id": "13f89ed1-8fd9-4f1f-aec1-07bdc7befe76",
   "metadata": {},
   "source": [
    "DH[t_] := DHinf*(1 - Exp[-(k (t - tzero))^n])\n",
    "4 initial guesses (DHinf, k, t zero, n)"
   ]
  },
  {
   "cell_type": "code",
   "execution_count": 5,
   "id": "df699e02-a99a-49a0-9667-87eacb0ac995",
   "metadata": {},
   "outputs": [],
   "source": [
    "t_data = np.array(df['time'])\n",
    "a_data = np.array(df['DH'])\n",
    "\n",
    "# Define the DH function\n",
    "def delta_enthalpy(t, DHinf, k, tzero, n):\n",
    "    return DHinf * (1 - np.exp(-k * np.abs(t - tzero)**n))\n",
    "\n",
    "DH = delta_enthalpy"
   ]
  },
  {
   "cell_type": "markdown",
   "id": "c02c7830-fc38-4d71-8c82-19cea2188bd0",
   "metadata": {},
   "source": [
    "We need to provide an initial guess for the parameters (DHinf, k, tzero, and n). This is necessary for the curve fitting algorithm to start the optimization process. You might base your initial guess on some knowledge of the system or by visually inspecting the data:\n"
   ]
  },
  {
   "cell_type": "code",
   "execution_count": 6,
   "id": "fcc88563-de32-44be-be3e-d755287e1b98",
   "metadata": {},
   "outputs": [],
   "source": [
    "initial_guess = (0.1, 0.8, 0.3, 1)"
   ]
  },
  {
   "cell_type": "markdown",
   "id": "096b7a8e-d5b6-4110-ba06-e382b942836c",
   "metadata": {},
   "source": [
    "The curve_fit function adjusts the parameters of your model function to best fit the experimental data. It minimizes the difference between the observed data and the values predicted by the model."
   ]
  },
  {
   "cell_type": "code",
   "execution_count": 7,
   "id": "54a843a6-f6db-466a-bd9a-38255f753973",
   "metadata": {},
   "outputs": [
    {
     "name": "stdout",
     "output_type": "stream",
     "text": [
      "Fitted DHinf: 2.129861830183333\n",
      "Fitted k: 0.4436893196997899\n",
      "Fitted tzero: 1.2090679092188883\n",
      "Fitted n: 0.6176213095096593\n"
     ]
    }
   ],
   "source": [
    "# Fit the function to the data\n",
    "from scipy.optimize import curve_fit\n",
    "\n",
    "#scipy.optimize.curve_fit(f, xdata, ydata, p0=None)\n",
    "params, covariance = curve_fit(DH, t_data, a_data, p0=initial_guess)\n",
    "\n",
    "# Fitted parameters estraction \n",
    "DHinf_fit, k_fit, tzero_fit, n_fit = params\n",
    "\n",
    "# Print the fitted parameters\n",
    "print(\"Fitted DHinf:\", DHinf_fit)\n",
    "print(\"Fitted k:\", k_fit)\n",
    "print(\"Fitted tzero:\", tzero_fit)\n",
    "print(\"Fitted n:\", n_fit)"
   ]
  },
  {
   "cell_type": "code",
   "execution_count": 8,
   "id": "1e91c10a-f7f9-4e50-94e3-e58d77ee5ec8",
   "metadata": {},
   "outputs": [
    {
     "name": "stdout",
     "output_type": "stream",
     "text": [
      "[[ 9.31645911e-04 -7.00369976e-05 -2.51780896e-04 -5.85728786e-04]\n",
      " [-7.00369976e-05  8.94242531e-04  1.95915180e-05 -1.00225694e-03]\n",
      " [-2.51780896e-04  1.95915180e-05  5.65954337e-03  6.62131629e-04]\n",
      " [-5.85728786e-04 -1.00225694e-03  6.62131629e-04  2.06402940e-03]]\n"
     ]
    }
   ],
   "source": [
    "print(covariance)"
   ]
  },
  {
   "cell_type": "markdown",
   "id": "81488eed-b9ae-4f18-bae4-35aed20982e0",
   "metadata": {},
   "source": [
    "Elements in the diagonal represent the covariance for each parameter. Off-diagonal you have the interactions between parameters (example k and t_zero)."
   ]
  },
  {
   "cell_type": "code",
   "execution_count": 9,
   "id": "05506d08-8943-46e2-9815-eeaa89a4b724",
   "metadata": {},
   "outputs": [
    {
     "data": {
      "image/png": "[encoded data removed]",
      "text/plain": [
       "<Figure size 640x480 with 1 Axes>"
      ]
     },
     "metadata": {},
     "output_type": "display_data"
    }
   ],
   "source": [
    "import matplotlib.pyplot as plt\n",
    "def fitted_DH(t_data):\n",
    "    return DH(t_data, DHinf_fit, k_fit, tzero_fit, n_fit)\n",
    "\n",
    "# Plot the original data and the fitted function\n",
    "plt.scatter(t_data, a_data, label='Data')\n",
    "t_values = np.linspace(min(t_data), max(t_data), 19)\n",
    "plt.plot(t_values, fitted_DH(t_values), label='Fitted DH Function', color='red')\n",
    "plt.xlabel('Time (min)')\n",
    "plt.ylabel('DH (J/g)')\n",
    "plt.title('Enthalpy vs Time Fit')\n",
    "plt.legend()\n",
    "plt.show()"
   ]
  },
  {
   "cell_type": "markdown",
   "id": "4f14afd0-89ec-48e4-b098-a40c5030246b",
   "metadata": {},
   "source": [
    "Linear model => slope calculation => kinetic\n",
    "Log1minXovXmax = {t - tzero1 /. DH.fit, \n",
    "   Log[1 - DH/DHinf1 /. DH_fit]} MATHEMATICA CODE "
   ]
  },
  {
   "cell_type": "code",
   "execution_count": 10,
   "id": "16f0c01e-a29e-4a48-a8bc-9f7d9b75428e",
   "metadata": {},
   "outputs": [
    {
     "data": {
      "text/plain": [
       "(array([  1,   2,   3,   4,   5,   6,   7,   8,   9,  10,  20,  30,  40,\n",
       "         50,  60,  70,  80,  90, 100], dtype=int64),\n",
       " array([0.356 , 0.789 , 0.9849, 1.1   , 1.392 , 1.402 , 1.45  , 1.55  ,\n",
       "        1.78  , 1.9   , 2.01  , 2.11  , 2.11  , 2.11  , 2.11  , 2.11  ,\n",
       "        2.11  , 2.11  , 2.11  ]))"
      ]
     },
     "execution_count": 10,
     "metadata": {},
     "output_type": "execute_result"
    }
   ],
   "source": [
    "t_data, a_data"
   ]
  },
  {
   "cell_type": "code",
   "execution_count": 14,
   "id": "ac8b569d-d892-433a-b84d-3126b2a8cdc0",
   "metadata": {},
   "outputs": [
    {
     "name": "stdout",
     "output_type": "stream",
     "text": [
      "0.2090679092188883 -0.18289811433433004\n",
      "0.7909320907811117 -0.4627445450794324\n",
      "1.7909320907811117 -0.620685808792637\n",
      "2.7909320907811117 -0.7266324613685916\n",
      "3.7909320907811117 -1.0600558030424445\n",
      "4.790932090781112 -1.0737011516615231\n",
      "5.790932090781112 -1.141922801523672\n",
      "6.790932090781112 -1.3010225368020685\n",
      "7.790932090781112 -1.8062740825047423\n",
      "8.790932090781112 -2.2263339980666013\n",
      "18.790932090781112 -2.877472723885417\n",
      "28.790932090781112 -4.6750125795234165\n",
      "38.79093209078111 -4.6750125795234165\n",
      "48.79093209078111 -4.6750125795234165\n",
      "58.79093209078111 -4.6750125795234165\n",
      "68.79093209078111 -4.6750125795234165\n",
      "78.79093209078111 -4.6750125795234165\n",
      "88.79093209078111 -4.6750125795234165\n",
      "98.79093209078111 -4.6750125795234165\n"
     ]
    },
    {
     "data": {
      "text/plain": [
       "<matplotlib.collections.PathCollection at 0x25f9ef49950>"
      ]
     },
     "execution_count": 14,
     "metadata": {},
     "output_type": "execute_result"
    },
    {
     "data": {
      "image/png": "[encoded data removed]",
      "text/plain": [
       "<Figure size 640x480 with 1 Axes>"
      ]
     },
     "metadata": {},
     "output_type": "display_data"
    }
   ],
   "source": [
    "new_a_data =  np.log(1 - a_data / DHinf_fit)\n",
    "new_t_data =  ( np.abs(t_data - tzero_fit))\n",
    "\n",
    "for x,y in zip(new_t_data, new_a_data):\n",
    "    print(x,y)\n",
    "plt.scatter(new_t_data[:10],new_a_data[:10])"
   ]
  },
  {
   "cell_type": "code",
   "execution_count": 31,
   "id": "ce398e77-d8ee-4239-97a4-15820d06978f",
   "metadata": {},
   "outputs": [
    {
     "name": "stdout",
     "output_type": "stream",
     "text": [
      "Fitted function: np.log(1 - 0.05 * (new_t_data**0.8))\n"
     ]
    }
   ],
   "source": [
    "# Fit the function to the data\n",
    "from scipy.optimize import curve_fit\n",
    "\n",
    "initial guess = \n",
    "#scipy.optimize.curve_fit(f, xdata, ydata, p0=None)\n",
    "params_new, covariance_new = curve_fit(new_t_data, new_a_data, p0=initial_guess)\n",
    "\n",
    "# Fitted parameters estraction \n",
    "DHinf_fit, k_fit, tzero_fit, n_fit = params\n",
    "\n",
    "# Print the fitted parameters\n",
    "print(\"Fitted DHinf:\", DHinf_fit)\n",
    "print(\"Fitted k:\", k_fit)\n",
    "print(\"Fitted tzero:\", tzero_fit)\n",
    "print(\"Fitted n:\", n_fit)"
   ]
  },
  {
   "cell_type": "code",
   "execution_count": null,
   "id": "3eea85b2-dde7-48a2-b8ee-82d581c43f15",
   "metadata": {},
   "outputs": [],
   "source": [
    "plt.scatter(new_t_data[:10], new_a_data[:10], label='Data')\n",
    "plt.plot(x, y_fit, label='Linear Regression', color='red')"
   ]
  },
  {
   "cell_type": "code",
   "execution_count": 15,
   "id": "bf04e9d2-a165-45a7-aa46-2a10bf850144",
   "metadata": {},
   "outputs": [
    {
     "data": {
      "text/plain": [
       "array([-1.10640478, -0.38722825,  0.00218083,  0.18814392,  0.30342706,\n",
       "        0.38341202,  0.44259227,  0.48825634,  0.52455366,  0.5540535 ,\n",
       "        0.68761498,  0.72645427,  0.74167935,  0.74855189,  0.75193487,\n",
       "        0.75370376,  0.7546716 ,  0.75522046,  0.75554095])"
      ]
     },
     "execution_count": 15,
     "metadata": {},
     "output_type": "execute_result"
    }
   ],
   "source": [
    "# Transform the data with the log (np.log is a ntural log)\n",
    "# def LogDH(t_data, DHinf_fit, k_fit, tzero_fit, n_fit):\n",
    "#     return -k_fit((t_data - tzero_fit)**n_fit)*(np.log(1 - a_data/DHinf_fit)\n",
    "\n",
    "def LogDH(t, DHinf, k, tzero, n):\n",
    "    return np.log(DHinf * (1 - np.exp(-k * np.abs(t - tzero)**n)))\n",
    "\n",
    "# LogDH(10)\n",
    "LogDH(t_data, DHinf_fit, k_fit, tzero_fit, n_fit)"
   ]
  },
  {
   "cell_type": "markdown",
   "id": "bd83d81a-9744-498c-93c7-01bf297b2fb7",
   "metadata": {},
   "source": [
    "plt.scatter(x[:10], y[:10], label='Data') for taking the first part of the curve that does not include the plateau (it would lead to a constant line - try yourself by deleting [:10])\n",
    "The function LogDH takes as input parameters related to time (t_data) and fitted parameters (DHinf_fit, k_fit, tzero_fit, n_fit). It calculates two arrays, x and y, and returns them.\n",
    "t_data: Input data related to time.\n",
    "DHinf_fit, k_fit, tzero_fit, n_fit: Fitted parameters used in the calculations.\n",
    "Inside the function:\n",
    "\n",
    "x = (t_data - tzero_fit): Calculates the array x by subtracting tzero_fit from each element of t_data.\n",
    "\n",
    "y = np.log(1 - a_data / DHinf_fit): Calculates the array y by performing element-wise operations on a_data and DHinf_fit, then taking the natural logarithm (np.log).\n",
    "\n",
    "return x, y: Returns the arrays x and y as a tuple."
   ]
  },
  {
   "cell_type": "markdown",
   "id": "d489dafb-41a7-4be3-9651-d735d3a6714c",
   "metadata": {},
   "source": [
    "Log(1-DH/DHmax) = Log(1-a_data/DHinf_fit) \n"
   ]
  },
  {
   "cell_type": "code",
   "execution_count": 13,
   "id": "180cc8a0-467e-4fc5-b63e-f34ef4e4992b",
   "metadata": {},
   "outputs": [],
   "source": [
    "import matplotlib.pyplot as plt\n",
    "\n",
    "# def LogDH(t_data, DHinf_fit, k_fit, tzero_fit, n_fit):\n",
    "#     x = (t_data - tzero_fit)\n",
    "#     y = np.log(1 - a_data / DHinf_fit)\n",
    "#     return x, y\n"
   ]
  },
  {
   "cell_type": "code",
   "execution_count": 11,
   "id": "92c8cd7a-61c2-4776-8ea7-a4fc6ef0dc78",
   "metadata": {},
   "outputs": [
    {
     "name": "stdout",
     "output_type": "stream",
     "text": [
      "[-0.20906791  0.79093209  1.79093209  2.79093209  3.79093209  4.79093209\n",
      "  5.79093209  6.79093209  7.79093209  8.79093209 18.79093209 28.79093209\n",
      " 38.79093209 48.79093209 58.79093209 68.79093209 78.79093209 88.79093209\n",
      " 98.79093209]\n"
     ]
    }
   ],
   "source": [
    "print(x)"
   ]
  },
  {
   "cell_type": "markdown",
   "id": "0ed4817b-c9eb-4f8a-9d2c-508a79eb2ad5",
   "metadata": {},
   "source": [
    "np.polyfit: This function is used for polynomial fitting. It calculates the coefficients of a polynomial that best fits a set of data points in a least-squares sense.\n",
    "np.poly1d: This function is used to create a polynomial object from a given set of coefficients. "
   ]
  },
  {
   "cell_type": "code",
   "execution_count": 12,
   "id": "18ecb11c-0c20-47e2-a04e-5aec032133a6",
   "metadata": {},
   "outputs": [
    {
     "name": "stdout",
     "output_type": "stream",
     "text": [
      "[-0.18289811 -0.46274455 -0.62068581 -0.72663246 -1.0600558  -1.07370115\n",
      " -1.1419228  -1.30102254 -1.80627408 -2.226334   -2.87747272 -4.67501258\n",
      " -4.67501258 -4.67501258 -4.67501258 -4.67501258 -4.67501258 -4.67501258\n",
      " -4.67501258]\n"
     ]
    }
   ],
   "source": [
    "print(y)"
   ]
  },
  {
   "cell_type": "code",
   "execution_count": 15,
   "id": "514a4ab3-0ffe-499c-a0aa-87b18576da01",
   "metadata": {},
   "outputs": [
    {
     "data": {
      "image/png": "[encoded data removed]",
      "text/plain": [
       "<Figure size 640x480 with 1 Axes>"
      ]
     },
     "metadata": {},
     "output_type": "display_data"
    }
   ],
   "source": [
    "import matplotlib.pyplot as plt\n",
    "import numpy as np\n",
    "from sklearn import datasets, linear_model\n",
    "from sklearn.linear_model import LinearRegression\n",
    "from sklearn.metrics import mean_squared_error, r2_score\n",
    "\n",
    "x = x.reshape(-1, 1)\n",
    "\n",
    "# Linear regression\n",
    "regressor = LinearRegression()\n",
    "regressor.fit(x, y)\n",
    "y_fit = regressor.predict(x)\n",
    "\n",
    "plt.scatter(x[:10], y[:10], label='Data')\n",
    "plt.plot(x, y_fit, label='Linear Regression', color='red')\n",
    "plt.xlabel('Time - tzero (min)')\n",
    "plt.ylabel('log(1 - a_data / DHinf_fit)')\n",
    "plt.legend()\n",
    "plt.show()"
   ]
  },
  {
   "cell_type": "code",
   "execution_count": 15,
   "id": "76375e34-8007-49d3-93ba-383acf3d70cf",
   "metadata": {},
   "outputs": [
    {
     "name": "stdout",
     "output_type": "stream",
     "text": [
      "Slope: -0.04812174143932022, Intercept: -1.2290986905128143\n"
     ]
    }
   ],
   "source": [
    "slope = regressor.coef_[0]\n",
    "intercept = regressor.intercept_\n",
    "\n",
    "print(f\"Slope: {slope}, Intercept: {intercept}\")"
   ]
  },
  {
   "cell_type": "code",
   "execution_count": 16,
   "id": "de453c1b-20fc-4a1f-b8f8-566dfcef9a41",
   "metadata": {},
   "outputs": [
    {
     "name": "stdout",
     "output_type": "stream",
     "text": [
      "[-1.21903798 -1.26715972 -1.31528146 -1.3634032  -1.41152494 -1.45964669\n",
      " -1.50776843 -1.55589017 -1.60401191 -1.65213365 -2.13335107 -2.61456848\n",
      " -3.09578589 -3.57700331 -4.05822072 -4.53943814 -5.02065555 -5.50187297\n",
      " -5.98309038]\n"
     ]
    }
   ],
   "source": [
    "print(y_fit)"
   ]
  },
  {
   "cell_type": "code",
   "execution_count": 17,
   "id": "aea4eea2-1392-4939-b761-f9dad618353a",
   "metadata": {},
   "outputs": [
    {
     "name": "stdout",
     "output_type": "stream",
     "text": [
      "0.7822255941281547\n",
      "0.7584489694303048\n"
     ]
    }
   ],
   "source": [
    "# Mean squared error and R2 \n",
    "from sklearn.metrics import mean_squared_error, r2_score\n",
    "\n",
    "mea = mean_squared_error(y, y_fit)\n",
    "r2 = r2_score(y,y_fit)\n",
    "\n",
    "print(mea)\n",
    "print(r2)"
   ]
  },
  {
   "cell_type": "code",
   "execution_count": null,
   "id": "58a36edb-78a8-483d-a9ce-e94c16861c19",
   "metadata": {},
   "outputs": [],
   "source": []
  },
  {
   "cell_type": "code",
   "execution_count": null,
   "id": "2648159b-82f7-4739-834b-c649ea94cd3d",
   "metadata": {},
   "outputs": [],
   "source": []
  }
 ],
 "metadata": {
  "kernelspec": {
   "display_name": "Python 3 (ipykernel)",
   "language": "python",
   "name": "python3"
  },
  "language_info": {
   "codemirror_mode": {
    "name": "ipython",
    "version": 3
   },
   "file_extension": ".py",
   "mimetype": "text/x-python",
   "name": "python",
   "nbconvert_exporter": "python",
   "pygments_lexer": "ipython3",
   "version": "3.11.2"
  }
 },
 "nbformat": 4,
 "nbformat_minor": 5
}
