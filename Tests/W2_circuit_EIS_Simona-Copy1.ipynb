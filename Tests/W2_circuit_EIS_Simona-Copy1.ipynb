{
 "cells": [
  {
   "cell_type": "code",
   "execution_count": 1,
   "id": "e525a654-cb42-4b90-ba49-6d032ba04fae",
   "metadata": {},
   "outputs": [],
   "source": [
    "import matplotlib.pyplot as plt\n",
    "from impedance.visualization import plot_nyquist\n",
    "import pandas as pd"
   ]
  },
  {
   "cell_type": "code",
   "execution_count": 2,
   "id": "89cbb926-2f75-4a86-94a1-69d31f9fd7ae",
   "metadata": {
    "tags": []
   },
   "outputs": [
    {
     "name": "stdout",
     "output_type": "stream",
     "text": [
      "Requirement already satisfied: torch in c:\\users\\20224751\\appdata\\local\\miniconda3\\envs\\impedance-analysis\\lib\\site-packages (2.2.0)\n",
      "Requirement already satisfied: filelock in c:\\users\\20224751\\appdata\\local\\miniconda3\\envs\\impedance-analysis\\lib\\site-packages (from torch) (3.13.1)\n",
      "Requirement already satisfied: typing-extensions>=4.8.0 in c:\\users\\20224751\\appdata\\local\\miniconda3\\envs\\impedance-analysis\\lib\\site-packages (from torch) (4.9.0)\n",
      "Requirement already satisfied: sympy in c:\\users\\20224751\\appdata\\local\\miniconda3\\envs\\impedance-analysis\\lib\\site-packages (from torch) (1.12)\n",
      "Requirement already satisfied: networkx in c:\\users\\20224751\\appdata\\local\\miniconda3\\envs\\impedance-analysis\\lib\\site-packages (from torch) (3.2.1)\n",
      "Requirement already satisfied: jinja2 in c:\\users\\20224751\\appdata\\local\\miniconda3\\envs\\impedance-analysis\\lib\\site-packages (from torch) (3.1.2)\n",
      "Requirement already satisfied: fsspec in c:\\users\\20224751\\appdata\\local\\miniconda3\\envs\\impedance-analysis\\lib\\site-packages (from torch) (2024.2.0)\n",
      "Requirement already satisfied: MarkupSafe>=2.0 in c:\\users\\20224751\\appdata\\local\\miniconda3\\envs\\impedance-analysis\\lib\\site-packages (from jinja2->torch) (2.1.1)\n",
      "Requirement already satisfied: mpmath>=0.19 in c:\\users\\20224751\\appdata\\local\\miniconda3\\envs\\impedance-analysis\\lib\\site-packages (from sympy->torch) (1.3.0)\n",
      "Note: you may need to restart the kernel to use updated packages.\n"
     ]
    }
   ],
   "source": [
    "pip install torch"
   ]
  },
  {
   "cell_type": "code",
   "execution_count": 3,
   "id": "23aad1ac-161b-44a4-8c46-34b336f535e3",
   "metadata": {},
   "outputs": [],
   "source": [
    "import torch\n",
    "import math "
   ]
  },
  {
   "cell_type": "code",
   "execution_count": 4,
   "id": "720f989f",
   "metadata": {},
   "outputs": [
    {
     "name": "stdout",
     "output_type": "stream",
     "text": [
      "PYTHONPATH: C:\\Program Files\\PerkinElmerInformatics\\ChemOffice2018\\ChemScript\\Lib\n",
      "PATH: C:\\Users\\20224751\\AppData\\Local\\miniconda3\\envs\\impedance-analysis;C:\\Users\\20224751\\AppData\\Local\\miniconda3\\envs\\impedance-analysis\\Library\\mingw-w64\\bin;C:\\Users\\20224751\\AppData\\Local\\miniconda3\\envs\\impedance-analysis\\Library\\usr\\bin;C:\\Users\\20224751\\AppData\\Local\\miniconda3\\envs\\impedance-analysis\\Library\\bin;C:\\Users\\20224751\\AppData\\Local\\miniconda3\\envs\\impedance-analysis\\Scripts;C:\\Users\\20224751\\AppData\\Local\\miniconda3\\envs\\impedance-analysis\\bin;C:\\Users\\20224751\\AppData\\Local\\miniconda3\\condabin;C:\\Program Files\\PerkinElmerInformatics\\ChemOffice2018\\ChemScript\\Lib;C:\\windows\\system32;C:\\windows;C:\\windows\\System32\\Wbem;C:\\windows\\System32\\WindowsPowerShell\\v1.0;C:\\windows\\System32\\OpenSSH;C:\\Program Files\\MATLAB\\R2021a\\runtime\\win64;C:\\Program Files\\MATLAB\\R2021a\\bin;C:\\Program Files\\Wolfram Research\\WolframScript;C:\\Users\\20224751\\AppData\\Local\\Programs\\Python\\Launcher;C:\\Users\\20224751\\AppData\\Local\\Microsoft\\WindowsApps;.;C:\\Users\\20224751\\AppData\\Local\\Programs\\Microsoft VS Code\\bin\n"
     ]
    }
   ],
   "source": [
    "import os\n",
    "print(\"PYTHONPATH:\", os.environ.get('PYTHONPATH'))\n",
    "print(\"PATH:\", os.environ.get('PATH'))"
   ]
  },
  {
   "cell_type": "markdown",
   "id": "5f647da3-03ba-4e11-ad3b-93a530360501",
   "metadata": {},
   "source": [
    "### load data CR=0\n",
    "readBioLogic() requires a single impedance sequence in the file\n",
    "  \n",
    "  https://daringfireball.net/projects/markdown/ \n",
    "  \n",
    "$x=\\dfrac{1}{y^3}$  "
   ]
  },
  {
   "cell_type": "code",
   "execution_count": 5,
   "id": "4ee3d36f-800b-46fd-bf2c-6134089f0a33",
   "metadata": {
    "tags": []
   },
   "outputs": [
    {
     "name": "stdout",
     "output_type": "stream",
     "text": [
      "        freq/Hz  Re(Z)/Ohm  Im(Z)/Ohm\n",
      "0   200000.0000      0.431   -2.43000\n",
      "1   135000.0000      0.413   -1.65000\n",
      "2    91700.0000      0.408   -1.11000\n",
      "3    62100.0000      0.407   -0.73500\n",
      "4    42100.0000      0.411   -0.47700\n",
      "5    28500.0000      0.418   -0.29500\n",
      "6    19300.0000      0.431   -0.16500\n",
      "7    13100.0000      0.448   -0.06820\n",
      "8     8850.0000      0.470    0.00514\n",
      "9     5990.0000      0.498    0.06530\n",
      "10    4060.0000      0.532    0.11800\n",
      "11    2750.0000      0.578    0.16700\n",
      "12    1860.0000      0.638    0.21100\n",
      "13    1260.0000      0.715    0.24300\n",
      "14     853.0000      0.801    0.25400\n",
      "15     578.0000      0.884    0.24500\n",
      "16     391.0000      0.955    0.21900\n",
      "17     265.0000      1.010    0.18900\n",
      "18     179.0000      1.040    0.16300\n",
      "19     122.0000      1.070    0.14500\n",
      "20      82.3000      1.100    0.13700\n",
      "21      55.7000      1.120    0.13800\n",
      "22      37.7000      1.150    0.14500\n",
      "23      25.6000      1.180    0.16100\n",
      "24      17.3000      1.220    0.17900\n",
      "25      11.7000      1.270    0.19600\n",
      "26       7.9400      1.320    0.21500\n",
      "27       5.3700      1.380    0.22900\n",
      "28       3.6400      1.450    0.23600\n",
      "29       2.4700      1.520    0.23600\n",
      "30       1.6700      1.590    0.22400\n",
      "31       1.1300      1.650    0.20700\n",
      "32       0.7660      1.700    0.18700\n",
      "33       0.5190      1.740    0.16900\n",
      "34       0.3510      1.780    0.15100\n",
      "35       0.2380      1.820    0.13500\n",
      "36       0.1610      1.850    0.11600\n",
      "37       0.1090      1.880    0.09720\n",
      "38       0.0658      1.910    0.07370\n",
      "39       0.0444      1.930    0.05550\n",
      "40       0.0300      1.940    0.04210\n"
     ]
    }
   ],
   "source": [
    "import pandas as pd\n",
    "import numpy as np\n",
    "import matplotlib.pyplot as plt\n",
    "\n",
    "file_path = r'C:\\Users\\20224751\\Downloads\\EIS_data_py.csv'\n",
    "\n",
    "df = pd.read_csv(file_path)\n",
    "\n",
    "print(df.to_string()) "
   ]
  },
  {
   "cell_type": "code",
   "execution_count": 6,
   "id": "5d953c77-ce3d-4bff-a433-1850cf1366a8",
   "metadata": {
    "tags": []
   },
   "outputs": [
    {
     "name": "stdout",
     "output_type": "stream",
     "text": [
      "Index(['freq/Hz', 'Re(Z)/Ohm', 'Im(Z)/Ohm'], dtype='object')\n",
      "        freq/Hz  Re(Z)/Ohm  Im(Z)/Ohm\n",
      "0   200000.0000      0.431   -2.43000\n",
      "1   135000.0000      0.413   -1.65000\n",
      "2    91700.0000      0.408   -1.11000\n",
      "3    62100.0000      0.407   -0.73500\n",
      "4    42100.0000      0.411   -0.47700\n",
      "5    28500.0000      0.418   -0.29500\n",
      "6    19300.0000      0.431   -0.16500\n",
      "7    13100.0000      0.448   -0.06820\n",
      "8     8850.0000      0.470    0.00514\n",
      "9     5990.0000      0.498    0.06530\n",
      "10    4060.0000      0.532    0.11800\n",
      "11    2750.0000      0.578    0.16700\n",
      "12    1860.0000      0.638    0.21100\n",
      "13    1260.0000      0.715    0.24300\n",
      "14     853.0000      0.801    0.25400\n",
      "15     578.0000      0.884    0.24500\n",
      "16     391.0000      0.955    0.21900\n",
      "17     265.0000      1.010    0.18900\n",
      "18     179.0000      1.040    0.16300\n",
      "19     122.0000      1.070    0.14500\n",
      "20      82.3000      1.100    0.13700\n",
      "21      55.7000      1.120    0.13800\n",
      "22      37.7000      1.150    0.14500\n",
      "23      25.6000      1.180    0.16100\n",
      "24      17.3000      1.220    0.17900\n",
      "25      11.7000      1.270    0.19600\n",
      "26       7.9400      1.320    0.21500\n",
      "27       5.3700      1.380    0.22900\n",
      "28       3.6400      1.450    0.23600\n",
      "29       2.4700      1.520    0.23600\n",
      "30       1.6700      1.590    0.22400\n",
      "31       1.1300      1.650    0.20700\n",
      "32       0.7660      1.700    0.18700\n",
      "33       0.5190      1.740    0.16900\n",
      "34       0.3510      1.780    0.15100\n",
      "35       0.2380      1.820    0.13500\n",
      "36       0.1610      1.850    0.11600\n",
      "37       0.1090      1.880    0.09720\n",
      "38       0.0658      1.910    0.07370\n",
      "39       0.0444      1.930    0.05550\n",
      "40       0.0300      1.940    0.04210\n"
     ]
    }
   ],
   "source": [
    "df.columns = [col.strip() for col in df.columns]\n",
    "print(df.columns)\n",
    "print(df)"
   ]
  },
  {
   "cell_type": "code",
   "execution_count": 7,
   "id": "fad8ec0f-3f46-4822-8bfa-524d39e822a6",
   "metadata": {},
   "outputs": [
    {
     "data": {
      "text/plain": [
       "Index(['freq/Hz', 'Re(Z)/Ohm', 'Im(Z)/Ohm'], dtype='object')"
      ]
     },
     "execution_count": 7,
     "metadata": {},
     "output_type": "execute_result"
    }
   ],
   "source": [
    "df.columns"
   ]
  },
  {
   "cell_type": "code",
   "execution_count": 8,
   "id": "40d58ab9-58c3-4e24-8fb8-4798fcbe0d81",
   "metadata": {
    "tags": []
   },
   "outputs": [],
   "source": [
    "data = df.loc[(df['Im(Z)/Ohm'])>-0.06]"
   ]
  },
  {
   "cell_type": "code",
   "execution_count": 9,
   "id": "db598655-62a1-4b6b-9861-a77c2eae2402",
   "metadata": {},
   "outputs": [
    {
     "name": "stdout",
     "output_type": "stream",
     "text": [
      "(33,)\n"
     ]
    }
   ],
   "source": [
    "z=data['Re(Z)/Ohm'].values-1j*data['Im(Z)/Ohm'].values\n",
    "print(z.shape)"
   ]
  },
  {
   "cell_type": "code",
   "execution_count": 10,
   "id": "3da14fe7-d842-4b0d-ae1a-200281d608d4",
   "metadata": {},
   "outputs": [
    {
     "name": "stdout",
     "output_type": "stream",
     "text": [
      "(33,)\n"
     ]
    }
   ],
   "source": [
    "f_data = df.loc[(df['freq/Hz'])<13100.0000] #<13000\n",
    "a_f= np.array(f_data['freq/Hz'])\n",
    "print(a_f.shape)"
   ]
  },
  {
   "cell_type": "code",
   "execution_count": 11,
   "id": "e629dd28-f953-4c07-8153-f0d00e5253ae",
   "metadata": {},
   "outputs": [
    {
     "data": {
      "image/png": "[encoded data removed]",
      "text/plain": [
       "<Figure size 640x480 with 1 Axes>"
      ]
     },
     "metadata": {},
     "output_type": "display_data"
    }
   ],
   "source": [
    "fig, ax = plt.subplots()\n",
    "ax.plot(z.real, -z.imag, marker='o',mfc='none',ls='none')\n",
    "ax.set_xlabel(r'Z$_{real}$', size=14)\n",
    "ax.set_ylabel(r'-Z$_{imag}$',size=14)\n",
    "ax.set_aspect('equal')"
   ]
  },
  {
   "cell_type": "markdown",
   "id": "ab1fcc3a-6285-49bb-b42f-0a6276b59062",
   "metadata": {},
   "source": [
    "TLMQ (Transmission Line Model with Constant Phase Element):\n",
    "\n",
    "Represents a transmission line model with a CPE.\n",
    "It has several parameters including R, L, Q, alpha, n, tau0, A, Lq, Ld, Cq, Cd, Rq, Rd."
   ]
  },
  {
   "cell_type": "code",
   "execution_count": 71,
   "id": "60e02a1c-356e-4aeb-9944-d66e5cc04358",
   "metadata": {},
   "outputs": [],
   "source": [
    "# Warbur element \n",
    "from impedance.models.circuits import CustomCircuit\n",
    "\n",
    "circuit = 'L0-p(R1,CPE1)-p(R2,CPE2)-TLMQ0'\n",
    "initial_guess = [1e-9, .05, 1e-5, 0.1, .5, .05, 1, 0.01, 1e-2, 0.8]\n",
    "\n",
    "circuit = CustomCircuit(circuit, initial_guess=initial_guess)"
   ]
  },
  {
   "cell_type": "markdown",
   "id": "43f5b1cf-9db5-47c3-9b9d-54eedf09a595",
   "metadata": {
    "tags": []
   },
   "source": [
    "### Fitting"
   ]
  },
  {
   "cell_type": "markdown",
   "id": "3a6220b2-cd08-4732-afb1-cc13c94d3606",
   "metadata": {},
   "source": [
    "Freq is used in the model together with Z (impedance- uses ReZ and ImZ)"
   ]
  },
  {
   "cell_type": "code",
   "execution_count": 72,
   "id": "86b8009e-9aed-4920-9b46-a6a1d505e83e",
   "metadata": {},
   "outputs": [
    {
     "name": "stdout",
     "output_type": "stream",
     "text": [
      "(33,)\n",
      "(33,)\n"
     ]
    }
   ],
   "source": [
    "print(z.shape)\n",
    "print(a_f.shape)"
   ]
  },
  {
   "cell_type": "code",
   "execution_count": 73,
   "id": "b5e970e1-95e0-4f2d-9a24-f20675449ac6",
   "metadata": {
    "tags": []
   },
   "outputs": [
    {
     "name": "stdout",
     "output_type": "stream",
     "text": [
      "\n",
      "Circuit string: L0-p(R1,CPE1)-p(R2,CPE2)-TLMQ0\n",
      "Fit: True\n",
      "\n",
      "Initial guesses:\n",
      "     L0 = 1.00e-09 [H]\n",
      "     R1 = 5.00e-02 [Ohm]\n",
      "  CPE1_0 = 1.00e-05 [Ohm^-1 sec^a]\n",
      "  CPE1_1 = 1.00e-01 []\n",
      "     R2 = 5.00e-01 [Ohm]\n",
      "  CPE2_0 = 5.00e-02 [Ohm^-1 sec^a]\n",
      "  CPE2_1 = 1.00e+00 []\n",
      "  TLMQ0_0 = 1.00e-02 [Ohm]\n",
      "  TLMQ0_1 = 1.00e-02 [F sec^(gamma - 1)]\n",
      "  TLMQ0_2 = 8.00e-01 []\n",
      "\n",
      "Fit parameters:\n",
      "     L0 = 1.58e-06  (+/- 3.51e-07) [H]\n",
      "     R1 = 8.57e-01  (+/- 6.31e-02) [Ohm]\n",
      "  CPE1_0 = 2.08e-01  (+/- 1.15e-02) [Ohm^-1 sec^a]\n",
      "  CPE1_1 = 6.09e-01  (+/- 1.81e-02) []\n",
      "     R2 = 5.69e-01  (+/- 9.70e-02) [Ohm]\n",
      "  CPE2_0 = 7.53e-04  (+/- 1.38e-04) [Ohm^-1 sec^a]\n",
      "  CPE2_1 = 8.83e-01  (+/- 4.28e-02) []\n",
      "  TLMQ0_0 = 8.28e-01  (+/- 1.93e+02) [Ohm]\n",
      "  TLMQ0_1 = 3.46e+00  (+/- 5.03e+02) [F sec^(gamma - 1)]\n",
      "  TLMQ0_2 = 2.33e-02  (+/- 1.97e+00) []\n",
      "\n"
     ]
    }
   ],
   "source": [
    "# Model fit\n",
    "circuit.fit(a_f, z)\n",
    "print(circuit)"
   ]
  },
  {
   "cell_type": "code",
   "execution_count": 74,
   "id": "f4dbf7cf-314f-4d39-8778-a2b15beb281f",
   "metadata": {
    "tags": []
   },
   "outputs": [
    {
     "name": "stdout",
     "output_type": "stream",
     "text": [
      "[0.47960296-0.00499224j 0.49898392-0.06241038j 0.5285367 -0.11711825j\n",
      " 0.57306817-0.16987104j 0.63640758-0.21619764j 0.71656734-0.24709589j\n",
      " 0.80450197-0.2554524j  0.88630126-0.24203767j 0.95309128-0.2157483j\n",
      " 1.00294275-0.18748436j 1.04038393-0.1640563j  1.06952057-0.14901874j\n",
      " 1.09618969-0.14207851j 1.12268977-0.14295015j 1.15170272-0.1503495j\n",
      " 1.1848363 -0.1627537j  1.22429174-0.17881482j 1.2706098 -0.19638733j\n",
      " 1.32368913-0.21304541j 1.38386393-0.22661024j 1.44862094-0.23462022j\n",
      " 1.51548514-0.2356351j  1.58214895-0.2291632j  1.64485264-0.21596935j\n",
      " 1.70122504-0.19783467j 1.75040815-0.17674986j 1.79225088-0.15460371j\n",
      " 1.82675278-0.13320798j 1.85521567-0.11333319j 1.87836789-0.09571256j\n",
      " 1.90210959-0.07648166j 1.91682415-0.06419508j 1.92895654-0.05407421j]\n"
     ]
    }
   ],
   "source": [
    "# new value of impedance predicted\n",
    "Z_fit = circuit.predict(a_f)\n",
    "print(Z_fit)"
   ]
  },
  {
   "cell_type": "code",
   "execution_count": 75,
   "id": "17c18f11-5b9c-48bf-8e3b-c2b1347aa0c1",
   "metadata": {
    "tags": []
   },
   "outputs": [
    {
     "name": "stdout",
     "output_type": "stream",
     "text": [
      "[0.47960296 0.49898392 0.5285367  0.57306817 0.63640758 0.71656734\n",
      " 0.80450197 0.88630126 0.95309128 1.00294275 1.04038393 1.06952057\n",
      " 1.09618969 1.12268977 1.15170272 1.1848363  1.22429174 1.2706098\n",
      " 1.32368913 1.38386393 1.44862094 1.51548514 1.58214895 1.64485264\n",
      " 1.70122504 1.75040815 1.79225088 1.82675278 1.85521567 1.87836789\n",
      " 1.90210959 1.91682415 1.92895654]\n",
      "[0.00499224 0.06241038 0.11711825 0.16987104 0.21619764 0.24709589\n",
      " 0.2554524  0.24203767 0.2157483  0.18748436 0.1640563  0.14901874\n",
      " 0.14207851 0.14295015 0.1503495  0.1627537  0.17881482 0.19638733\n",
      " 0.21304541 0.22661024 0.23462022 0.2356351  0.2291632  0.21596935\n",
      " 0.19783467 0.17674986 0.15460371 0.13320798 0.11333319 0.09571256\n",
      " 0.07648166 0.06419508 0.05407421]\n"
     ]
    }
   ],
   "source": [
    "Zreal_fit=Z_fit.real\n",
    "Zimm_fit=-Z_fit.imag\n",
    "print(Zreal_fit)\n",
    "print(Zimm_fit)"
   ]
  },
  {
   "cell_type": "code",
   "execution_count": 76,
   "id": "3188646f-da60-4b55-8d9d-f8d5fbe2ed6a",
   "metadata": {
    "tags": []
   },
   "outputs": [],
   "source": [
    "#!pip install --upgrade impedance"
   ]
  },
  {
   "cell_type": "code",
   "execution_count": 77,
   "id": "c5a212f8-2719-4910-8d73-f9814cc68b7c",
   "metadata": {
    "tags": []
   },
   "outputs": [
    {
     "name": "stdout",
     "output_type": "stream",
     "text": [
      "[0.47 -0.00514j 0.498-0.0653j  0.532-0.118j   0.578-0.167j\n",
      " 0.638-0.211j   0.715-0.243j   0.801-0.254j   0.884-0.245j\n",
      " 0.955-0.219j   1.01 -0.189j   1.04 -0.163j   1.07 -0.145j\n",
      " 1.1  -0.137j   1.12 -0.138j   1.15 -0.145j   1.18 -0.161j\n",
      " 1.22 -0.179j   1.27 -0.196j   1.32 -0.215j   1.38 -0.229j\n",
      " 1.45 -0.236j   1.52 -0.236j   1.59 -0.224j   1.65 -0.207j\n",
      " 1.7  -0.187j   1.74 -0.169j   1.78 -0.151j   1.82 -0.135j\n",
      " 1.85 -0.116j   1.88 -0.0972j  1.91 -0.0737j  1.93 -0.0555j\n",
      " 1.94 -0.0421j ]\n"
     ]
    }
   ],
   "source": [
    "print(z)"
   ]
  },
  {
   "cell_type": "code",
   "execution_count": 78,
   "id": "7427cf91-fcaf-4314-9e31-ea46acf941c1",
   "metadata": {
    "tags": []
   },
   "outputs": [
    {
     "name": "stdout",
     "output_type": "stream",
     "text": [
      "[0.47  0.498 0.532 0.578 0.638 0.715 0.801 0.884 0.955 1.01  1.04  1.07\n",
      " 1.1   1.12  1.15  1.18  1.22  1.27  1.32  1.38  1.45  1.52  1.59  1.65\n",
      " 1.7   1.74  1.78  1.82  1.85  1.88  1.91  1.93  1.94 ]\n",
      "[0.00514 0.0653  0.118   0.167   0.211   0.243   0.254   0.245   0.219\n",
      " 0.189   0.163   0.145   0.137   0.138   0.145   0.161   0.179   0.196\n",
      " 0.215   0.229   0.236   0.236   0.224   0.207   0.187   0.169   0.151\n",
      " 0.135   0.116   0.0972  0.0737  0.0555  0.0421 ]\n"
     ]
    }
   ],
   "source": [
    "zreal=z.real\n",
    "zimag=-z.imag\n",
    "print(zreal)\n",
    "print(zimag)"
   ]
  },
  {
   "cell_type": "code",
   "execution_count": 79,
   "id": "2aa62688-8137-4f3f-aea3-02b6c34d270a",
   "metadata": {},
   "outputs": [
    {
     "data": {
      "image/png": "[encoded data removed]",
      "text/plain": [
       "<Figure size 640x480 with 1 Axes>"
      ]
     },
     "metadata": {},
     "output_type": "display_data"
    }
   ],
   "source": [
    "import matplotlib.pyplot as plt\n",
    "\n",
    "fig, ax = plt.subplots()\n",
    "plt.scatter(zreal, zimag, label='Data')\n",
    "plt.plot(Zreal_fit, Zimm_fit, label='Fitted data', color='red')\n",
    "plt.xlabel('Zreal')\n",
    "plt.ylabel('-Zimm')\n",
    "plt.title('Zreal vs -Zimm')\n",
    "ax.set_aspect('equal')\n",
    "plt.legend()\n",
    "plt.show()"
   ]
  },
  {
   "cell_type": "code",
   "execution_count": 69,
   "id": "3944367c-f7be-43a3-a692-0e2dd37cc423",
   "metadata": {},
   "outputs": [
    {
     "name": "stdout",
     "output_type": "stream",
     "text": [
      "Mean Squared Error: 0.0001660616508866749\n"
     ]
    }
   ],
   "source": [
    "from sklearn.metrics import mean_squared_error\n",
    "\n",
    "mse = mean_squared_error(zimag, Zimm_fit)\n",
    "print(\"Mean Squared Error:\", mse)"
   ]
  },
  {
   "cell_type": "code",
   "execution_count": 70,
   "id": "27f50d78-6747-4126-a276-b26a2ea6131f",
   "metadata": {},
   "outputs": [
    {
     "name": "stdout",
     "output_type": "stream",
     "text": [
      "[5.56061900e+04 3.76362800e+04 2.55097323e+04 1.72787596e+04\n",
      " 1.16867247e+04 7.91681349e+03 5.35955707e+03 3.63168111e+03\n",
      " 2.45672546e+03 1.66504411e+03 1.12469017e+03 7.66548607e+02\n",
      " 5.17106151e+02 3.49973422e+02 2.36876086e+02 1.60849544e+02\n",
      " 1.08699106e+02 7.35132681e+01 4.98884913e+01 3.37407051e+01\n",
      " 2.28707945e+01 1.55194677e+01 1.04929195e+01 7.09999940e+00\n",
      " 4.81291995e+00 3.26097317e+00 2.20539804e+00 1.49539810e+00\n",
      " 1.01159283e+00 6.84867198e-01 4.13433593e-01 2.78973428e-01\n",
      " 1.88495559e-01]\n"
     ]
    }
   ],
   "source": [
    "import math\n",
    "\n",
    "pi_v= math.pi\n",
    "f=a_f\n",
    "w=2*pi_v*(f)\n",
    "print(w)"
   ]
  },
  {
   "cell_type": "code",
   "execution_count": null,
   "id": "0143ef21-a6b1-4580-950b-ee29f5a3f34d",
   "metadata": {},
   "outputs": [],
   "source": []
  },
  {
   "cell_type": "code",
   "execution_count": null,
   "id": "52dc7272-fd49-4062-9ca7-f3b944756808",
   "metadata": {},
   "outputs": [],
   "source": []
  }
 ],
 "metadata": {
  "kernelspec": {
   "display_name": "Python 3 (ipykernel)",
   "language": "python",
   "name": "python3"
  },
  "language_info": {
   "codemirror_mode": {
    "name": "ipython",
    "version": 3
   },
   "file_extension": ".py",
   "mimetype": "text/x-python",
   "name": "python",
   "nbconvert_exporter": "python",
   "pygments_lexer": "ipython3",
   "version": "3.11.7"
  }
 },
 "nbformat": 4,
 "nbformat_minor": 5
}
