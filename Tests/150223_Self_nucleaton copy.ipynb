{
 "cells": [
  {
   "cell_type": "code",
   "execution_count": 1,
   "id": "5b7a68bf-b78a-44f2-a96e-def398042b16",
   "metadata": {
    "tags": []
   },
   "outputs": [
    {
     "name": "stderr",
     "output_type": "stream",
     "text": [
      "C:\\Users\\20224751\\AppData\\Local\\Temp\\ipykernel_48636\\3052440728.py:1: DeprecationWarning: \n",
      "Pyarrow will become a required dependency of pandas in the next major release of pandas (pandas 3.0),\n",
      "(to allow more performant data types, such as the Arrow string type, and better interoperability with other libraries)\n",
      "but was not found to be installed on your system.\n",
      "If this would cause problems for you,\n",
      "please provide us feedback at https://github.com/pandas-dev/pandas/issues/54466\n",
      "        \n",
      "  import pandas as pd\n"
     ]
    },
    {
     "name": "stdout",
     "output_type": "stream",
     "text": [
      "   time    Area\n",
      "0     5  0.4924\n",
      "1     7  0.7988\n",
      "2    10  1.5420\n",
      "3    15  2.7320\n",
      "4    20  3.5900\n",
      "5    25  4.2670\n",
      "6    30  4.6720\n",
      "7    40  5.3720\n",
      "8    50  5.6860\n",
      "9    60  6.1920\n"
     ]
    }
   ],
   "source": [
    "import pandas as pd\n",
    "import numpy as np\n",
    "import matplotlib.pyplot as plt\n",
    "\n",
    "file_path = r'C:\\Users\\20224751\\Downloads\\SN_TEST.csv'\n",
    "\n",
    "df = pd.read_csv(file_path)\n",
    "\n",
    "print(df.to_string()) "
   ]
  },
  {
   "cell_type": "code",
   "execution_count": 2,
   "id": "e09a3f7b-6161-4ef2-96bc-ada7e6c1a0f1",
   "metadata": {},
   "outputs": [
    {
     "name": "stdout",
     "output_type": "stream",
     "text": [
      "Index(['time', 'Area'], dtype='object')\n",
      "   time    Area\n",
      "0     5  0.4924\n",
      "1     7  0.7988\n",
      "2    10  1.5420\n",
      "3    15  2.7320\n",
      "4    20  3.5900\n",
      "5    25  4.2670\n",
      "6    30  4.6720\n",
      "7    40  5.3720\n",
      "8    50  5.6860\n",
      "9    60  6.1920\n"
     ]
    }
   ],
   "source": [
    "df.columns = [col.strip() for col in df.columns]\n",
    "print(df.columns)\n",
    "print(df)"
   ]
  },
  {
   "cell_type": "code",
   "execution_count": 3,
   "id": "94a687a2-a636-4691-848f-52ff8d4f4cdf",
   "metadata": {},
   "outputs": [
    {
     "data": {
      "image/png": "[encoded data removed]",
      "text/plain": [
       "<Figure size 640x480 with 1 Axes>"
      ]
     },
     "metadata": {},
     "output_type": "display_data"
    }
   ],
   "source": [
    "df.plot(x='time', y='Area', marker='o', linestyle='-')\n",
    "plt.xlabel('Time (min)')\n",
    "plt.ylabel('DH (J/g)')\n",
    "plt.title('Enthalpy vs Time')\n",
    "plt.show()"
   ]
  },
  {
   "cell_type": "code",
   "execution_count": 5,
   "id": "afa2e574-fd26-4eb0-b013-c1907bcd04a0",
   "metadata": {},
   "outputs": [],
   "source": [
    "t_data = np.array(df['time'])\n",
    "a_data = np.array(df['Area'])"
   ]
  },
  {
   "cell_type": "code",
   "execution_count": 6,
   "id": "df699e02-a99a-49a0-9667-87eacb0ac995",
   "metadata": {},
   "outputs": [],
   "source": [
    "# Define the DH function\n",
    "def DH(t_data, DHinf, k, tzero, n):\n",
    "    return DHinf * (1 - np.exp(-k * np.abs(t_data - tzero)**n))"
   ]
  },
  {
   "cell_type": "code",
   "execution_count": null,
   "id": "c8c60e84-5080-41cc-8998-2527a8aad3e3",
   "metadata": {},
   "outputs": [],
   "source": [
    "# Provide initial guess\n",
    "initial_guess = (6.19, 0.05, 1, 1)"
   ]
  },
  {
   "cell_type": "code",
   "execution_count": 7,
   "id": "54a843a6-f6db-466a-bd9a-38255f753973",
   "metadata": {},
   "outputs": [],
   "source": [
    "# Scipy.optimize.curve_fit(f, xdata, ydata, p0=None)\n",
    "params, covariance = curve_fit(DH, t_data, a_data, p0=initial_guess)\n",
    "\n",
    "# Fitted parameters estraction \n",
    "DHinf_fit, k_fit, tzero_fit, n_fit = params"
   ]
  },
  {
   "cell_type": "code",
   "execution_count": 8,
   "id": "318f4974-14f9-4db3-8a9f-f77fbacd15ce",
   "metadata": {},
   "outputs": [
    {
     "name": "stdout",
     "output_type": "stream",
     "text": [
      "Fitted DHinf: 6.336688800914219\n",
      "Fitted k: 0.03746379769925092\n",
      "Fitted tzero: 3.3833286760572787\n",
      "Fitted n: 1.0953337477826077\n"
     ]
    }
   ],
   "source": [
    "# Display fit parameters\n",
    "print(\"Fitted DHinf:\", DHinf_fit)\n",
    "print(\"Fitted k:\", k_fit)\n",
    "print(\"Fitted tzero:\", tzero_fit)\n",
    "print(\"Fitted n:\", n_fit)"
   ]
  },
  {
   "cell_type": "code",
   "execution_count": 9,
   "id": "1e91c10a-f7f9-4e50-94e3-e58d77ee5ec8",
   "metadata": {},
   "outputs": [
    {
     "name": "stdout",
     "output_type": "stream",
     "text": [
      "[[ 5.53460375e-02  2.26454834e-03  1.17459431e-01 -2.38591925e-02]\n",
      " [ 2.26454834e-03  1.81008264e-04  1.01857948e-02 -1.63763997e-03]\n",
      " [ 1.17459431e-01  1.01857948e-02  6.55480283e-01 -8.94053596e-02]\n",
      " [-2.38591925e-02 -1.63763997e-03 -8.94053596e-02  1.53193418e-02]]\n"
     ]
    }
   ],
   "source": [
    "print(covariance)"
   ]
  },
  {
   "cell_type": "code",
   "execution_count": null,
   "id": "c5c48d7d-f720-4a61-84ac-2a887ef68e55",
   "metadata": {},
   "outputs": [],
   "source": [
    "def fitted_DH(t_data):\n",
    "    return DH(t_data, DHinf_fit, k_fit, tzero_fit, n_fit)"
   ]
  },
  {
   "cell_type": "code",
   "execution_count": null,
   "id": "f365351d-e09f-41d8-9574-5722cc4f4fe9",
   "metadata": {},
   "outputs": [],
   "source": [
    "# Plot the original data and the fitted function\n",
    "plt.scatter(t_data, a_data, label='Data')\n",
    "t_values = np.linspace(min(t_data), max(t_data), 19)\n",
    "plt.plot(t_values, fitted_DH(t_values), label='Fitted DH Function', color='red')\n",
    "plt.xlabel('Time (min)')\n",
    "plt.ylabel('DH (J/g)')\n",
    "plt.title('Enthalpy vs Time Fit')\n",
    "plt.legend()\n",
    "plt.show()"
   ]
  },
  {
   "cell_type": "code",
   "execution_count": 10,
   "id": "ed52a5bc-80b7-4035-be36-e235dd56aed8",
   "metadata": {},
   "outputs": [
    {
     "name": "stdout",
     "output_type": "stream",
     "text": [
      "[ 1.61667132  3.61667132  6.61667132 11.61667132 16.61667132 21.61667132\n",
      " 26.61667132 36.61667132 46.61667132 56.61667132]\n",
      "[-0.08089145 -0.13474302 -0.27884756 -0.56412092 -0.83596025 -1.1189581\n",
      " -1.33671816 -1.88230608 -2.27608014 -3.7795264 ]\n"
     ]
    }
   ],
   "source": [
    "x = np.abs(t_data - tzero_fit)\n",
    "y = np.log(1 - a_data / DHinf_fit)"
   ]
  },
  {
   "cell_type": "markdown",
   "id": "395cc7cc-003a-49af-ae44-0251eb3830f5",
   "metadata": {},
   "source": [
    "LINEAR MODEL"
   ]
  },
  {
   "cell_type": "code",
   "execution_count": 38,
   "id": "217777c0-774c-44a9-adce-b68226868101",
   "metadata": {},
   "outputs": [],
   "source": [
    "def LogDHn(x, k_lin, n_lin):\n",
    "    return -k_lin * np.abs(x**n_lin)"
   ]
  },
  {
   "cell_type": "code",
   "execution_count": 40,
   "id": "b359ccc5-d195-4d1d-958f-f3b80b7b80ff",
   "metadata": {},
   "outputs": [
    {
     "name": "stdout",
     "output_type": "stream",
     "text": [
      "[-0.0657299   0.22317293]\n"
     ]
    }
   ],
   "source": [
    "coef = np.polyfit(x,y,1)\n",
    "poly1d_fn = np.poly1d(coef)\n",
    "print(coef)"
   ]
  },
  {
   "cell_type": "code",
   "execution_count": 41,
   "id": "4cb390c8-21d9-47ad-8a17-40feb0a7e4f5",
   "metadata": {},
   "outputs": [
    {
     "data": {
      "text/plain": [
       "Text(0.5, 1.0, 'Linear fit')"
      ]
     },
     "execution_count": 41,
     "metadata": {},
     "output_type": "execute_result"
    },
    {
     "data": {
      "image/png": "[encoded data removed]",
      "text/plain": [
       "<Figure size 640x480 with 1 Axes>"
      ]
     },
     "metadata": {},
     "output_type": "display_data"
    }
   ],
   "source": [
    "plt.plot(x,y, 'ro', label='Data')\n",
    "plt.plot(x, poly1d_fn(x), '--k', label='Fit')\n",
    "plt.legend()\n",
    "plt.xlabel('t-tzero')\n",
    "plt.ylabel('1-ln(H1/H0)')\n",
    "plt.title('Linear fit')"
   ]
  }
 ],
 "metadata": {
  "kernelspec": {
   "display_name": "Python 3 (ipykernel)",
   "language": "python",
   "name": "python3"
  },
  "language_info": {
   "codemirror_mode": {
    "name": "ipython",
    "version": 3
   },
   "file_extension": ".py",
   "mimetype": "text/x-python",
   "name": "python",
   "nbconvert_exporter": "python",
   "pygments_lexer": "ipython3",
   "version": "3.11.5"
  }
 },
 "nbformat": 4,
 "nbformat_minor": 5
}
