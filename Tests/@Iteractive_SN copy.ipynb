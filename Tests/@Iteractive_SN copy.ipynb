{
 "cells": [
  {
   "cell_type": "code",
   "execution_count": 50,
   "id": "2e6adece-1e07-4826-b812-26c2c9e68993",
   "metadata": {},
   "outputs": [
    {
     "name": "stdout",
     "output_type": "stream",
     "text": [
      "C:\\Users\\20224751\\Downloads\\Simona test_\\self_nucleation.csv\n"
     ]
    }
   ],
   "source": [
    "!where self_nucleation.csv"
   ]
  },
  {
   "cell_type": "code",
   "execution_count": 51,
   "id": "5b7a68bf-b78a-44f2-a96e-def398042b16",
   "metadata": {
    "tags": []
   },
   "outputs": [
    {
     "name": "stdout",
     "output_type": "stream",
     "text": [
      "    time       DH\n",
      "0       1  0.3560\n",
      "1       2  0.7890\n",
      "2       3  0.9849\n",
      "3       4  1.1000\n",
      "4       5  1.3920\n",
      "5       6  1.4020\n",
      "6       7  1.4500\n",
      "7       8  1.5500\n",
      "8       9  1.7800\n",
      "9      10  1.9000\n",
      "10     20  2.0100\n",
      "11     30  2.1100\n",
      "12     40  2.1100\n",
      "13     50  2.1100\n",
      "14     60  2.1100\n",
      "15     70  2.1100\n",
      "16     80  2.1100\n",
      "17     90  2.1100\n",
      "18    100  2.1100\n"
     ]
    }
   ],
   "source": [
    "import pandas as pd\n",
    "import numpy as np\n",
    "import matplotlib.pyplot as plt\n",
    "\n",
    "file_path = r'C:\\Users\\20224751\\Downloads\\Simona test_\\self_nucleation.csv'\n",
    "\n",
    "df = pd.read_csv(file_path)\n",
    "\n",
    "print(df.to_string()) "
   ]
  },
  {
   "cell_type": "markdown",
   "id": "93305415-0be0-4d06-b18f-e3a115c7ae52",
   "metadata": {},
   "source": [
    "col.strip() is used to remove leading and trailing whitespaces from each element (or string) in a column (or Series) named col"
   ]
  },
  {
   "cell_type": "code",
   "execution_count": 52,
   "id": "9a67fa82-5528-4e51-8321-7a83ccf2f3c7",
   "metadata": {},
   "outputs": [
    {
     "name": "stdout",
     "output_type": "stream",
     "text": [
      "[[ 5.      0.4924]\n",
      " [ 7.      0.7988]\n",
      " [10.      1.542 ]\n",
      " [15.      2.732 ]\n",
      " [20.      3.59  ]\n",
      " [25.      4.267 ]\n",
      " [30.      4.672 ]\n",
      " [40.      5.357 ]\n",
      " [50.      5.686 ]\n",
      " [60.      6.002 ]\n",
      " [70.      6.192 ]]\n"
     ]
    }
   ],
   "source": [
    "import numpy as np\n",
    "\n",
    "data = np.array([\n",
    "    [5, 0.4924],\n",
    "    [7, 0.7988],\n",
    "    [10, 1.542],\n",
    "    [15, 2.732],\n",
    "    [20, 3.59],\n",
    "    [25, 4.267],\n",
    "    [30, 4.672],\n",
    "    [40, 5.357],\n",
    "    [50, 5.686],\n",
    "    [60, 6.002],\n",
    "    [70, 6.192]])\n",
    "\n",
    "print(data)"
   ]
  },
  {
   "cell_type": "code",
   "execution_count": 53,
   "id": "ef42fec3-271e-440e-b90e-a20f5dbad602",
   "metadata": {},
   "outputs": [
    {
     "name": "stdout",
     "output_type": "stream",
     "text": [
      "    time      H1\n",
      "0    5.0  0.4924\n",
      "1    7.0  0.7988\n",
      "2   10.0  1.5420\n",
      "3   15.0  2.7320\n",
      "4   20.0  3.5900\n",
      "5   25.0  4.2670\n",
      "6   30.0  4.6720\n",
      "7   40.0  5.3570\n",
      "8   50.0  5.6860\n",
      "9   60.0  6.0020\n",
      "10  70.0  6.1920\n"
     ]
    }
   ],
   "source": [
    "import pandas as pd\n",
    "df = pd.DataFrame(data)\n",
    "df.columns = [\"time\", \"H1\"]\n",
    "print(df)"
   ]
  },
  {
   "cell_type": "code",
   "execution_count": 54,
   "id": "94a687a2-a636-4691-848f-52ff8d4f4cdf",
   "metadata": {},
   "outputs": [
    {
     "data": {
      "image/png": "[encoded data removed]",
      "text/plain": [
       "<Figure size 640x480 with 1 Axes>"
      ]
     },
     "metadata": {},
     "output_type": "display_data"
    }
   ],
   "source": [
    "import numpy as np\n",
    "import matplotlib.pyplot as plt\n",
    "\n",
    "df.plot(x='time', y='H1', marker='o', linestyle='-')\n",
    "plt.xlabel('Time (min)')\n",
    "plt.ylabel('DH (J/g)')\n",
    "plt.title('Enthalpy vs Time')\n",
    "plt.show()"
   ]
  },
  {
   "cell_type": "markdown",
   "id": "2a8253dd-4c17-4afa-b69c-b3398950f599",
   "metadata": {},
   "source": [
    "Provide an initial guess for the parameters (DHinf, k, tzero, and n). This is necessary for the optimization algorithm to start the process. You might base your initial guess on some knowledge of the system or by visually inspecting the data.\n",
    "Define the Model Function (DH):you start with a model function, in your case, DH(t, DHinf, k, tzero, n).\n",
    "Collect Experimental Data: you have experimental data, represented by arrays t_data and a_data (a_data=DH)"
   ]
  },
  {
   "cell_type": "markdown",
   "id": "13f89ed1-8fd9-4f1f-aec1-07bdc7befe76",
   "metadata": {},
   "source": [
    "DH[t_] := DHinf*(1 - Exp[-(k (t - tzero))^n])\n",
    "4 initial guesses (DHinf, k, t zero, n)"
   ]
  },
  {
   "cell_type": "code",
   "execution_count": 67,
   "id": "df699e02-a99a-49a0-9667-87eacb0ac995",
   "metadata": {},
   "outputs": [],
   "source": [
    "t_data = np.array(df['time'])\n",
    "a_data = np.array(df['H1'])\n",
    "\n",
    "# Define the DH function\n",
    "def DH(t_data, DHinf, k, tzero, n):\n",
    "    return DHinf * (1 - np.exp(-k * np.abs(t_data - tzero)**n))"
   ]
  },
  {
   "cell_type": "code",
   "execution_count": 101,
   "id": "4597cd5b-b6a0-45d0-97f2-97237ad12fe8",
   "metadata": {},
   "outputs": [
    {
     "data": {
      "application/vnd.jupyter.widget-view+json": {
       "model_id": "ab3a9f7456cc4402b3847e516077319c",
       "version_major": 2,
       "version_minor": 0
      },
      "text/plain": [
       "interactive(children=(FloatSlider(value=3.0, description='DHinf', max=7.0, step=0.01), FloatSlider(value=0.04,…"
      ]
     },
     "metadata": {},
     "output_type": "display_data"
    }
   ],
   "source": [
    "from ipywidgets import interact, widgets\n",
    "\n",
    "@interact(DHinf=widgets.FloatSlider(min=0, max=7, step=0.01, value=3),\n",
    "          k=widgets.FloatSlider(min=0, max=0.1, step=0.05, value=0.04),\n",
    "          tzero=widgets.FloatSlider(min=0, max=2, step=0.05, value=0.5),        \n",
    "          n=widgets.FloatSlider(min=0, max=2, step=0.05, value=0.5))\n",
    "\n",
    "def plot_h(DHinf, k, tzero, n):\n",
    "    plt.scatter(t_data, a_data)\n",
    "    DH_f = DH(t_data, DHinf, k, tzero, n)\n",
    "    plt.plot(t_data, DH_f, color='red')\n",
    "    plt.ylim(0, 8)\n",
    "    plt.xlabel('t')\n",
    "    plt.ylabel('DH')\n",
    "    plt.title('Plot of DH Function')\n",
    "    plt.show()"
   ]
  },
  {
   "cell_type": "markdown",
   "id": "096b7a8e-d5b6-4110-ba06-e382b942836c",
   "metadata": {},
   "source": [
    "The curve_fit function adjusts the parameters of your model function to best fit the experimental data. It minimizes the difference between the observed data and the values predicted by the model."
   ]
  },
  {
   "cell_type": "markdown",
   "id": "81488eed-b9ae-4f18-bae4-35aed20982e0",
   "metadata": {},
   "source": [
    "Elements in the diagonal represent the covariance for each parameter. Off-diagonal you have the interactions between parameters (example k and t_zero)."
   ]
  },
  {
   "cell_type": "markdown",
   "id": "4f14afd0-89ec-48e4-b098-a40c5030246b",
   "metadata": {},
   "source": [
    "Linear model => slope calculation => kinetic\n",
    "Log1minXovXmax = {t - tzero1 /. DH.fit, \n",
    "   Log[1 - DH/DHinf1 /. DH_fit]} MATHEMATICA CODE "
   ]
  },
  {
   "cell_type": "code",
   "execution_count": 93,
   "id": "dd5d5caa-36fd-4814-8012-ecc27349d3b3",
   "metadata": {},
   "outputs": [],
   "source": [
    "#Define paramenters\n",
    "\n",
    "DHinf= 6.241487855992436\n",
    "k= 0.03719719126995143\n",
    "tzero= 3.3615543620862147\n",
    "n= 1.1064417970039309"
   ]
  },
  {
   "cell_type": "code",
   "execution_count": 94,
   "id": "ed52a5bc-80b7-4035-be36-e235dd56aed8",
   "metadata": {},
   "outputs": [
    {
     "name": "stdout",
     "output_type": "stream",
     "text": [
      "[ 1.63844564  3.63844564  6.63844564 11.63844564 16.63844564 21.63844564\n",
      " 26.63844564 36.63844564 46.63844564 56.63844564 66.63844564]\n",
      "[-0.08217738 -0.13694556 -0.28376506 -0.57574848 -0.85609765 -1.15090954\n",
      " -1.38046923 -1.95396509 -2.41912712 -3.26047116 -4.83724657]\n"
     ]
    }
   ],
   "source": [
    "x = np.abs(t_data - tzero_fit)\n",
    "y = np.log(1 - a_data / DHinf_fit)\n",
    "\n",
    "print(x)\n",
    "print(y)"
   ]
  },
  {
   "cell_type": "markdown",
   "id": "bd83d81a-9744-498c-93c7-01bf297b2fb7",
   "metadata": {},
   "source": [
    "plt.scatter(x[:10], y[:10], label='Data') for taking the first part of the curve that does not include the plateau (it would lead to a constant line - try yourself by deleting [:10])\n",
    "The function LogDH takes as input parameters related to time (t_data) and fitted parameters (DHinf_fit, k_fit, tzero_fit, n_fit). It calculates two arrays, x and y, and returns them.\n",
    "t_data: Input data related to time.\n",
    "DHinf_fit, k_fit, tzero_fit, n_fit: Fitted parameters used in the calculations.\n",
    "Inside the function:\n",
    "\n",
    "x = (t_data - tzero_fit): Calculates the array x by subtracting tzero_fit from each element of t_data.\n",
    "\n",
    "y = np.log(1 - a_data / DHinf_fit): Calculates the array y by performing element-wise operations on a_data and DHinf_fit, then taking the natural logarithm (np.log).\n",
    "\n",
    "return x, y: Returns the arrays x and y as a tuple."
   ]
  },
  {
   "cell_type": "code",
   "execution_count": 95,
   "id": "217777c0-774c-44a9-adce-b68226868101",
   "metadata": {},
   "outputs": [],
   "source": [
    "def LogDHn(x, k_lin, n_lin):\n",
    "    return -k_lin * np.abs(x**n_lin)"
   ]
  },
  {
   "cell_type": "code",
   "execution_count": 102,
   "id": "8e01400c-3c92-477e-806a-f689521b466f",
   "metadata": {},
   "outputs": [
    {
     "data": {
      "application/vnd.jupyter.widget-view+json": {
       "model_id": "ae7a42d72e17437dbb8ce8cfcf5836c6",
       "version_major": 2,
       "version_minor": 0
      },
      "text/plain": [
       "interactive(children=(FloatSlider(value=0.05, description='k_lin', max=0.1, min=0.01, step=0.01), FloatSlider(…"
      ]
     },
     "metadata": {},
     "output_type": "display_data"
    }
   ],
   "source": [
    "@interact(k_lin=widgets.FloatSlider(min=0.01, max=0.1, step=0.01, value=0.05),\n",
    "          n_lin=widgets.FloatSlider(min=0, max=1, step=0.05, value=0.5))\n",
    "\n",
    "def plot_hl(k_lin, n_lin):\n",
    "    plt.scatter(x, y)\n",
    "    Lin_f = LogDHn(x, k_lin, n_lin)\n",
    "    plt.plot(x, Lin_f, color='red')\n",
    "    plt.ylim(-1, 0)\n",
    "    plt.xlabel('t-tzero')\n",
    "    plt.ylabel('1-(H1/H0)')\n",
    "    plt.title('Linear plot of DH Function')\n",
    "    plt.show()"
   ]
  },
  {
   "cell_type": "markdown",
   "id": "05d6b86a-4dde-4089-b5a2-fd4800838622",
   "metadata": {},
   "source": [
    "[-0.0657299   0.22317293]\n",
    "Linear model parameters k and n"
   ]
  },
  {
   "cell_type": "markdown",
   "id": "8b6dbf13-b0df-461a-b41e-29060499344c",
   "metadata": {},
   "source": [
    "CURVE FITTING - curve_fit scipy"
   ]
  },
  {
   "cell_type": "code",
   "execution_count": 45,
   "id": "ed8d3765-d9ff-45a9-ad3c-d839c07e9c59",
   "metadata": {},
   "outputs": [],
   "source": [
    "#Fit the function to the data\n",
    "from scipy.optimize import curve_fit\n",
    "\n",
    "initial_guess = (0.05,1)\n",
    "\n",
    "params_new, covariance = curve_fit(LogDHn, x, y, p0=initial_guess)\n",
    "\n",
    "#Fitted parameters extraction\n",
    "k_lin_fit, n_lin_fit = params_new"
   ]
  },
  {
   "cell_type": "code",
   "execution_count": 46,
   "id": "88e9f6fd-e062-477b-83f3-9a7f6f1e30f8",
   "metadata": {},
   "outputs": [
    {
     "name": "stdout",
     "output_type": "stream",
     "text": [
      "0.016389721635288505\n",
      "1.3343313206642544\n"
     ]
    }
   ],
   "source": [
    "print(k_lin_fit)\n",
    "print(n_lin_fit)"
   ]
  },
  {
   "cell_type": "code",
   "execution_count": 47,
   "id": "798f9522-aa26-44bc-93fb-091b18f1f01e",
   "metadata": {},
   "outputs": [
    {
     "data": {
      "text/plain": [
       "Text(0.5, 1.0, 'Linear fit')"
      ]
     },
     "execution_count": 47,
     "metadata": {},
     "output_type": "execute_result"
    },
    {
     "data": {
      "image/png": "[encoded data removed]",
      "text/plain": [
       "<Figure size 640x480 with 1 Axes>"
      ]
     },
     "metadata": {},
     "output_type": "display_data"
    }
   ],
   "source": [
    "plt.plot(x[:10],y[:10], 'ro', x, LogDHn(x, k_lin_fit, n_lin_fit), '--k') \n",
    "plt.xlabel('t-tzero')\n",
    "plt.ylabel('1-ln(H1/H0)')\n",
    "plt.title('Linear fit')"
   ]
  },
  {
   "cell_type": "code",
   "execution_count": null,
   "id": "7c5a5d81-43a5-4f9b-9796-22da32850968",
   "metadata": {},
   "outputs": [],
   "source": []
  }
 ],
 "metadata": {
  "kernelspec": {
   "display_name": "Python 3 (ipykernel)",
   "language": "python",
   "name": "python3"
  },
  "language_info": {
   "codemirror_mode": {
    "name": "ipython",
    "version": 3
   },
   "file_extension": ".py",
   "mimetype": "text/x-python",
   "name": "python",
   "nbconvert_exporter": "python",
   "pygments_lexer": "ipython3",
   "version": "3.11.2"
  }
 },
 "nbformat": 4,
 "nbformat_minor": 5
}
