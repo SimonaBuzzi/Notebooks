{
 "cells": [
  {
   "cell_type": "code",
   "execution_count": null,
   "id": "544c5ba4-f748-42e1-b2aa-1668b0040b2a",
   "metadata": {},
   "outputs": [],
   "source": [
    "intial_guess: []\n",
    "def Z_CPE(w, Q0, n):\n",
    "    return (1 / (Q0 * (w ** n))) * np.exp(-1j * (np.pi / 2) * n)\n",
    "\n",
    "    "
   ]
  }
 ],
 "metadata": {
  "kernelspec": {
   "display_name": "Python 3 (ipykernel)",
   "language": "python",
   "name": "python3"
  },
  "language_info": {
   "codemirror_mode": {
    "name": "ipython",
    "version": 3
   },
   "file_extension": ".py",
   "mimetype": "text/x-python",
   "name": "python",
   "nbconvert_exporter": "python",
   "pygments_lexer": "ipython3",
   "version": "3.11.7"
  }
 },
 "nbformat": 4,
 "nbformat_minor": 5
}
