{
 "cells": [
  {
   "cell_type": "code",
   "execution_count": 23,
   "id": "e525a654-cb42-4b90-ba49-6d032ba04fae",
   "metadata": {},
   "outputs": [],
   "source": [
    "from impedance import preprocessing\n",
    "import matplotlib.pyplot as plt\n",
    "from impedance.visualization import plot_nyquist\n",
    "import pandas as pd"
   ]
  },
  {
   "cell_type": "code",
   "execution_count": 24,
   "id": "720f989f",
   "metadata": {},
   "outputs": [
    {
     "name": "stdout",
     "output_type": "stream",
     "text": [
      "PYTHONPATH: C:\\Program Files\\PerkinElmerInformatics\\ChemOffice2018\\ChemScript\\Lib\n",
      "PATH: C:\\Users\\20224751\\AppData\\Local\\miniconda3\\envs\\impedance-analysis;C:\\Users\\20224751\\AppData\\Local\\miniconda3\\envs\\impedance-analysis\\Library\\mingw-w64\\bin;C:\\Users\\20224751\\AppData\\Local\\miniconda3\\envs\\impedance-analysis\\Library\\usr\\bin;C:\\Users\\20224751\\AppData\\Local\\miniconda3\\envs\\impedance-analysis\\Library\\bin;C:\\Users\\20224751\\AppData\\Local\\miniconda3\\envs\\impedance-analysis\\Scripts;C:\\Users\\20224751\\AppData\\Local\\miniconda3\\envs\\impedance-analysis\\bin;C:\\Users\\20224751\\AppData\\Local\\miniconda3\\condabin;C:\\Program Files\\PerkinElmerInformatics\\ChemOffice2018\\ChemScript\\Lib;C:\\windows\\system32;C:\\windows;C:\\windows\\System32\\Wbem;C:\\windows\\System32\\WindowsPowerShell\\v1.0;C:\\windows\\System32\\OpenSSH;C:\\Program Files\\MATLAB\\R2021a\\runtime\\win64;C:\\Program Files\\MATLAB\\R2021a\\bin;C:\\Program Files\\Wolfram Research\\WolframScript;C:\\Users\\20224751\\AppData\\Local\\Programs\\Python\\Launcher;C:\\Users\\20224751\\AppData\\Local\\Microsoft\\WindowsApps;.;C:\\Users\\20224751\\AppData\\Local\\Programs\\Microsoft VS Code\\bin\n"
     ]
    }
   ],
   "source": [
    "import os\n",
    "print(\"PYTHONPATH:\", os.environ.get('PYTHONPATH'))\n",
    "print(\"PATH:\", os.environ.get('PATH'))"
   ]
  },
  {
   "cell_type": "markdown",
   "id": "5f647da3-03ba-4e11-ad3b-93a530360501",
   "metadata": {},
   "source": [
    "### load data CR=0\n",
    "readBioLogic() requires a single impedance sequence in the file\n",
    "  \n",
    "  https://daringfireball.net/projects/markdown/ \n",
    "  \n",
    "$x=\\dfrac{1}{y^3}$  "
   ]
  },
  {
   "cell_type": "code",
   "execution_count": 25,
   "id": "52ff2f0a",
   "metadata": {
    "tags": []
   },
   "outputs": [],
   "source": [
    "#frequencies, Z = preprocessing.readBioLogic('Downloads/EIS data/S7_3cms_center_IDFF_585um_240823_longEIS_C03.mpt') "
   ]
  },
  {
   "cell_type": "code",
   "execution_count": 26,
   "id": "4ee3d36f-800b-46fd-bf2c-6134089f0a33",
   "metadata": {
    "collapsed": true,
    "jupyter": {
     "outputs_hidden": true
    },
    "tags": []
   },
   "outputs": [
    {
     "name": "stdout",
     "output_type": "stream",
     "text": [
      "        freq/Hz  Re(Z)/Ohm  Im(Z)/Ohm\n",
      "0   200000.0000      0.431   -2.43000\n",
      "1   135000.0000      0.413   -1.65000\n",
      "2    91700.0000      0.408   -1.11000\n",
      "3    62100.0000      0.407   -0.73500\n",
      "4    42100.0000      0.411   -0.47700\n",
      "5    28500.0000      0.418   -0.29500\n",
      "6    19300.0000      0.431   -0.16500\n",
      "7    13100.0000      0.448   -0.06820\n",
      "8     8850.0000      0.470    0.00514\n",
      "9     5990.0000      0.498    0.06530\n",
      "10    4060.0000      0.532    0.11800\n",
      "11    2750.0000      0.578    0.16700\n",
      "12    1860.0000      0.638    0.21100\n",
      "13    1260.0000      0.715    0.24300\n",
      "14     853.0000      0.801    0.25400\n",
      "15     578.0000      0.884    0.24500\n",
      "16     391.0000      0.955    0.21900\n",
      "17     265.0000      1.010    0.18900\n",
      "18     179.0000      1.040    0.16300\n",
      "19     122.0000      1.070    0.14500\n",
      "20      82.3000      1.100    0.13700\n",
      "21      55.7000      1.120    0.13800\n",
      "22      37.7000      1.150    0.14500\n",
      "23      25.6000      1.180    0.16100\n",
      "24      17.3000      1.220    0.17900\n",
      "25      11.7000      1.270    0.19600\n",
      "26       7.9400      1.320    0.21500\n",
      "27       5.3700      1.380    0.22900\n",
      "28       3.6400      1.450    0.23600\n",
      "29       2.4700      1.520    0.23600\n",
      "30       1.6700      1.590    0.22400\n",
      "31       1.1300      1.650    0.20700\n",
      "32       0.7660      1.700    0.18700\n",
      "33       0.5190      1.740    0.16900\n",
      "34       0.3510      1.780    0.15100\n",
      "35       0.2380      1.820    0.13500\n",
      "36       0.1610      1.850    0.11600\n",
      "37       0.1090      1.880    0.09720\n",
      "38       0.0658      1.910    0.07370\n",
      "39       0.0444      1.930    0.05550\n",
      "40       0.0300      1.940    0.04210\n"
     ]
    }
   ],
   "source": [
    "import pandas as pd\n",
    "import numpy as np\n",
    "import matplotlib.pyplot as plt\n",
    "\n",
    "file_path = r'C:\\Users\\20224751\\Downloads\\EIS_data_py.csv'\n",
    "\n",
    "df = pd.read_csv(file_path)\n",
    "\n",
    "print(df.to_string()) "
   ]
  },
  {
   "cell_type": "code",
   "execution_count": 27,
   "id": "5d953c77-ce3d-4bff-a433-1850cf1366a8",
   "metadata": {
    "collapsed": true,
    "jupyter": {
     "outputs_hidden": true
    },
    "tags": []
   },
   "outputs": [
    {
     "name": "stdout",
     "output_type": "stream",
     "text": [
      "Index(['freq/Hz', 'Re(Z)/Ohm', 'Im(Z)/Ohm'], dtype='object')\n",
      "        freq/Hz  Re(Z)/Ohm  Im(Z)/Ohm\n",
      "0   200000.0000      0.431   -2.43000\n",
      "1   135000.0000      0.413   -1.65000\n",
      "2    91700.0000      0.408   -1.11000\n",
      "3    62100.0000      0.407   -0.73500\n",
      "4    42100.0000      0.411   -0.47700\n",
      "5    28500.0000      0.418   -0.29500\n",
      "6    19300.0000      0.431   -0.16500\n",
      "7    13100.0000      0.448   -0.06820\n",
      "8     8850.0000      0.470    0.00514\n",
      "9     5990.0000      0.498    0.06530\n",
      "10    4060.0000      0.532    0.11800\n",
      "11    2750.0000      0.578    0.16700\n",
      "12    1860.0000      0.638    0.21100\n",
      "13    1260.0000      0.715    0.24300\n",
      "14     853.0000      0.801    0.25400\n",
      "15     578.0000      0.884    0.24500\n",
      "16     391.0000      0.955    0.21900\n",
      "17     265.0000      1.010    0.18900\n",
      "18     179.0000      1.040    0.16300\n",
      "19     122.0000      1.070    0.14500\n",
      "20      82.3000      1.100    0.13700\n",
      "21      55.7000      1.120    0.13800\n",
      "22      37.7000      1.150    0.14500\n",
      "23      25.6000      1.180    0.16100\n",
      "24      17.3000      1.220    0.17900\n",
      "25      11.7000      1.270    0.19600\n",
      "26       7.9400      1.320    0.21500\n",
      "27       5.3700      1.380    0.22900\n",
      "28       3.6400      1.450    0.23600\n",
      "29       2.4700      1.520    0.23600\n",
      "30       1.6700      1.590    0.22400\n",
      "31       1.1300      1.650    0.20700\n",
      "32       0.7660      1.700    0.18700\n",
      "33       0.5190      1.740    0.16900\n",
      "34       0.3510      1.780    0.15100\n",
      "35       0.2380      1.820    0.13500\n",
      "36       0.1610      1.850    0.11600\n",
      "37       0.1090      1.880    0.09720\n",
      "38       0.0658      1.910    0.07370\n",
      "39       0.0444      1.930    0.05550\n",
      "40       0.0300      1.940    0.04210\n"
     ]
    }
   ],
   "source": [
    "df.columns = [col.strip() for col in df.columns]\n",
    "print(df.columns)\n",
    "print(df)"
   ]
  },
  {
   "cell_type": "code",
   "execution_count": 28,
   "id": "fad8ec0f-3f46-4822-8bfa-524d39e822a6",
   "metadata": {},
   "outputs": [
    {
     "data": {
      "text/plain": [
       "Index(['freq/Hz', 'Re(Z)/Ohm', 'Im(Z)/Ohm'], dtype='object')"
      ]
     },
     "execution_count": 28,
     "metadata": {},
     "output_type": "execute_result"
    }
   ],
   "source": [
    "df.columns"
   ]
  },
  {
   "cell_type": "code",
   "execution_count": 29,
   "id": "40d58ab9-58c3-4e24-8fb8-4798fcbe0d81",
   "metadata": {
    "tags": []
   },
   "outputs": [],
   "source": [
    "data = df.loc[(df['Im(Z)/Ohm'])>-0.6]"
   ]
  },
  {
   "cell_type": "code",
   "execution_count": 30,
   "id": "db598655-62a1-4b6b-9861-a77c2eae2402",
   "metadata": {},
   "outputs": [
    {
     "name": "stdout",
     "output_type": "stream",
     "text": [
      "[0.411+0.477j   0.418+0.295j   0.431+0.165j   0.448+0.0682j\n",
      " 0.47 -0.00514j 0.498-0.0653j  0.532-0.118j   0.578-0.167j\n",
      " 0.638-0.211j   0.715-0.243j   0.801-0.254j   0.884-0.245j\n",
      " 0.955-0.219j   1.01 -0.189j   1.04 -0.163j   1.07 -0.145j\n",
      " 1.1  -0.137j   1.12 -0.138j   1.15 -0.145j   1.18 -0.161j\n",
      " 1.22 -0.179j   1.27 -0.196j   1.32 -0.215j   1.38 -0.229j\n",
      " 1.45 -0.236j   1.52 -0.236j   1.59 -0.224j   1.65 -0.207j\n",
      " 1.7  -0.187j   1.74 -0.169j   1.78 -0.151j   1.82 -0.135j\n",
      " 1.85 -0.116j   1.88 -0.0972j  1.91 -0.0737j  1.93 -0.0555j\n",
      " 1.94 -0.0421j ]\n"
     ]
    }
   ],
   "source": [
    "z=data['Re(Z)/Ohm'].values-1j*data['Im(Z)/Ohm'].values\n",
    "print(z)"
   ]
  },
  {
   "cell_type": "code",
   "execution_count": 31,
   "id": "3da14fe7-d842-4b0d-ae1a-200281d608d4",
   "metadata": {},
   "outputs": [
    {
     "name": "stdout",
     "output_type": "stream",
     "text": [
      "[4.21e+04 2.85e+04 1.93e+04 1.31e+04 8.85e+03 5.99e+03 4.06e+03 2.75e+03\n",
      " 1.86e+03 1.26e+03 8.53e+02 5.78e+02 3.91e+02 2.65e+02 1.79e+02 1.22e+02\n",
      " 8.23e+01 5.57e+01 3.77e+01 2.56e+01 1.73e+01 1.17e+01 7.94e+00 5.37e+00\n",
      " 3.64e+00 2.47e+00 1.67e+00 1.13e+00 7.66e-01 5.19e-01 3.51e-01 2.38e-01\n",
      " 1.61e-01 1.09e-01 6.58e-02 4.44e-02 3.00e-02]\n"
     ]
    }
   ],
   "source": [
    "f_data = df.loc[(df['freq/Hz'])<62100.0000]\n",
    "a_f= np.array(f_data['freq/Hz'])\n",
    "print(a_f)"
   ]
  },
  {
   "cell_type": "code",
   "execution_count": 32,
   "id": "e629dd28-f953-4c07-8153-f0d00e5253ae",
   "metadata": {},
   "outputs": [
    {
     "data": {
      "image/png": "[encoded data removed]",
      "text/plain": [
       "<Figure size 640x480 with 1 Axes>"
      ]
     },
     "metadata": {},
     "output_type": "display_data"
    }
   ],
   "source": [
    "fig, ax = plt.subplots()\n",
    "ax.plot(z.real, -z.imag, marker='o',mfc='none',ls='none')\n",
    "ax.set_xlabel(r'Z$_{real}$', size=14)\n",
    "ax.set_ylabel(r'-Z$_{imag}$',size=14)\n",
    "ax.set_aspect('equal')"
   ]
  },
  {
   "cell_type": "code",
   "execution_count": 52,
   "id": "b690f371-06f3-432f-a056-fdb57dfa9259",
   "metadata": {},
   "outputs": [],
   "source": [
    "from impedance.models.circuits import CustomCircuit\n",
    "\n",
    "circuit = 'L0-p(R1,CPE1)-R0-TLMQ0'\n",
    "initial_guess = [1e-9, 0.04, 1e-5, 0.1, 0.5, 1, 1e-5, 0.1]\n",
    "\n",
    "circuit = CustomCircuit(circuit, initial_guess=initial_guess)"
   ]
  },
  {
   "cell_type": "markdown",
   "id": "43f5b1cf-9db5-47c3-9b9d-54eedf09a595",
   "metadata": {
    "tags": []
   },
   "source": [
    "### Fitting"
   ]
  },
  {
   "cell_type": "markdown",
   "id": "3a6220b2-cd08-4732-afb1-cc13c94d3606",
   "metadata": {},
   "source": [
    "Freq is used in the model together with Z (impedance- uses ReZ and ImZ)"
   ]
  },
  {
   "cell_type": "code",
   "execution_count": 42,
   "id": "b5e970e1-95e0-4f2d-9a24-f20675449ac6",
   "metadata": {
    "tags": []
   },
   "outputs": [
    {
     "name": "stdout",
     "output_type": "stream",
     "text": [
      "\n",
      "Circuit string: L0-p(R1,CPE1)-R0-TLMQ0\n",
      "Fit: True\n",
      "\n",
      "Initial guesses:\n",
      "     L0 = 1.00e-04 [H]\n",
      "     R1 = 4.00e-02 [Ohm]\n",
      "  CPE1_0 = 1.00e-05 [Ohm^-1 sec^a]\n",
      "  CPE1_1 = 1.00e-01 []\n",
      "     R0 = 5.00e-01 [Ohm]\n",
      "  TLMQ0_0 = 1.00e-02 [Ohm]\n",
      "  TLMQ0_1 = 1.00e-02 [F sec^(gamma - 1)]\n",
      "  TLMQ0_2 = 8.00e-01 []\n",
      "\n",
      "Fit parameters:\n",
      "     L0 = 2.30e-06  (+/- 3.31e-07) [H]\n",
      "     R1 = 2.24e+00  (+/- 1.86e+01) [Ohm]\n",
      "  CPE1_0 = 1.14e-01  (+/- 5.25e-01) [Ohm^-1 sec^a]\n",
      "  CPE1_1 = 2.36e-01  (+/- 6.02e-01) []\n",
      "     R0 = 2.77e-46  (+/- 4.56e+05) [Ohm]\n",
      "  TLMQ0_0 = 2.47e-41  (+/- 1.37e+06) [Ohm]\n",
      "  TLMQ0_1 = 3.62e+01  (+/- 2.89e+04) [F sec^(gamma - 1)]\n",
      "  TLMQ0_2 = 8.37e-02  (+/- 4.21e+01) []\n",
      "\n"
     ]
    }
   ],
   "source": [
    "# Model fit\n",
    "circuit.fit(a_f, z)\n",
    "print(circuit)"
   ]
  },
  {
   "cell_type": "code",
   "execution_count": 43,
   "id": "f4dbf7cf-314f-4d39-8778-a2b15beb281f",
   "metadata": {
    "tags": []
   },
   "outputs": [
    {
     "name": "stdout",
     "output_type": "stream",
     "text": [
      "[0.37779835+0.49075835j 0.40795526+0.2865807j  0.43999454+0.14596227j\n",
      " 0.47376923+0.04873439j 0.50992766-0.02037313j 0.54788812-0.06926846j\n",
      " 0.58765336-0.10454318j 0.62939454-0.13064309j 0.67314955-0.15038976j\n",
      " 0.71849799-0.16552458j 0.76558171-0.17740125j 0.81407762-0.18679326j\n",
      " 0.86415695-0.1942898j  0.91518206-0.20016344j 0.96764661-0.20470211j\n",
      " 1.01966613-0.20792511j 1.07362506-0.21007673j 1.12743819-0.21111345j\n",
      " 1.18129207-0.21110706j 1.23450192-0.21011652j 1.28793116-0.2081647j\n",
      " 1.3405744 -0.20532093j 1.39186208-0.20168243j 1.44249528-0.19725688j\n",
      " 1.49155307-0.19218332j 1.53903742-0.1865386j  1.58537126-0.18033653j\n",
      " 1.62989925-0.17373154j 1.67243189-0.16683397j 1.71316493-0.15969084j\n",
      " 1.7521804 -0.15235807j 1.7890197 -0.14499619j 1.82415267-0.13758224j\n",
      " 1.85729962-0.1302397j  1.89740687-0.12091186j 1.92654626-0.11383746j\n",
      " 1.95380246-0.1070009j ]\n"
     ]
    }
   ],
   "source": [
    "# new value of impedance predicted\n",
    "Z_fit = circuit.predict(a_f)\n",
    "print(Z_fit)"
   ]
  },
  {
   "cell_type": "code",
   "execution_count": 44,
   "id": "17c18f11-5b9c-48bf-8e3b-c2b1347aa0c1",
   "metadata": {
    "tags": []
   },
   "outputs": [
    {
     "name": "stdout",
     "output_type": "stream",
     "text": [
      "[0.37779835 0.40795526 0.43999454 0.47376923 0.50992766 0.54788812\n",
      " 0.58765336 0.62939454 0.67314955 0.71849799 0.76558171 0.81407762\n",
      " 0.86415695 0.91518206 0.96764661 1.01966613 1.07362506 1.12743819\n",
      " 1.18129207 1.23450192 1.28793116 1.3405744  1.39186208 1.44249528\n",
      " 1.49155307 1.53903742 1.58537126 1.62989925 1.67243189 1.71316493\n",
      " 1.7521804  1.7890197  1.82415267 1.85729962 1.89740687 1.92654626\n",
      " 1.95380246]\n",
      "[-0.49075835 -0.2865807  -0.14596227 -0.04873439  0.02037313  0.06926846\n",
      "  0.10454318  0.13064309  0.15038976  0.16552458  0.17740125  0.18679326\n",
      "  0.1942898   0.20016344  0.20470211  0.20792511  0.21007673  0.21111345\n",
      "  0.21110706  0.21011652  0.2081647   0.20532093  0.20168243  0.19725688\n",
      "  0.19218332  0.1865386   0.18033653  0.17373154  0.16683397  0.15969084\n",
      "  0.15235807  0.14499619  0.13758224  0.1302397   0.12091186  0.11383746\n",
      "  0.1070009 ]\n"
     ]
    }
   ],
   "source": [
    "Zreal_fit=Z_fit.real\n",
    "Zimm_fit=-Z_fit.imag\n",
    "print(Zreal_fit)\n",
    "print(Zimm_fit)"
   ]
  },
  {
   "cell_type": "code",
   "execution_count": 45,
   "id": "3188646f-da60-4b55-8d9d-f8d5fbe2ed6a",
   "metadata": {
    "tags": []
   },
   "outputs": [],
   "source": [
    "#!pip install --upgrade impedance"
   ]
  },
  {
   "cell_type": "code",
   "execution_count": 46,
   "id": "c5a212f8-2719-4910-8d73-f9814cc68b7c",
   "metadata": {
    "tags": []
   },
   "outputs": [
    {
     "name": "stdout",
     "output_type": "stream",
     "text": [
      "[0.411+0.477j   0.418+0.295j   0.431+0.165j   0.448+0.0682j\n",
      " 0.47 -0.00514j 0.498-0.0653j  0.532-0.118j   0.578-0.167j\n",
      " 0.638-0.211j   0.715-0.243j   0.801-0.254j   0.884-0.245j\n",
      " 0.955-0.219j   1.01 -0.189j   1.04 -0.163j   1.07 -0.145j\n",
      " 1.1  -0.137j   1.12 -0.138j   1.15 -0.145j   1.18 -0.161j\n",
      " 1.22 -0.179j   1.27 -0.196j   1.32 -0.215j   1.38 -0.229j\n",
      " 1.45 -0.236j   1.52 -0.236j   1.59 -0.224j   1.65 -0.207j\n",
      " 1.7  -0.187j   1.74 -0.169j   1.78 -0.151j   1.82 -0.135j\n",
      " 1.85 -0.116j   1.88 -0.0972j  1.91 -0.0737j  1.93 -0.0555j\n",
      " 1.94 -0.0421j ]\n"
     ]
    }
   ],
   "source": [
    "print(z)"
   ]
  },
  {
   "cell_type": "code",
   "execution_count": 47,
   "id": "7427cf91-fcaf-4314-9e31-ea46acf941c1",
   "metadata": {
    "tags": []
   },
   "outputs": [
    {
     "name": "stdout",
     "output_type": "stream",
     "text": [
      "[0.411 0.418 0.431 0.448 0.47  0.498 0.532 0.578 0.638 0.715 0.801 0.884\n",
      " 0.955 1.01  1.04  1.07  1.1   1.12  1.15  1.18  1.22  1.27  1.32  1.38\n",
      " 1.45  1.52  1.59  1.65  1.7   1.74  1.78  1.82  1.85  1.88  1.91  1.93\n",
      " 1.94 ]\n",
      "[-0.477   -0.295   -0.165   -0.0682   0.00514  0.0653   0.118    0.167\n",
      "  0.211    0.243    0.254    0.245    0.219    0.189    0.163    0.145\n",
      "  0.137    0.138    0.145    0.161    0.179    0.196    0.215    0.229\n",
      "  0.236    0.236    0.224    0.207    0.187    0.169    0.151    0.135\n",
      "  0.116    0.0972   0.0737   0.0555   0.0421 ]\n"
     ]
    }
   ],
   "source": [
    "zreal=z.real\n",
    "zimag=-z.imag\n",
    "print(zreal)\n",
    "print(zimag)"
   ]
  },
  {
   "cell_type": "code",
   "execution_count": 48,
   "id": "2aa62688-8137-4f3f-aea3-02b6c34d270a",
   "metadata": {},
   "outputs": [
    {
     "data": {
      "image/png": "[encoded data removed]",
      "text/plain": [
       "<Figure size 640x480 with 1 Axes>"
      ]
     },
     "metadata": {},
     "output_type": "display_data"
    }
   ],
   "source": [
    "import matplotlib.pyplot as plt\n",
    "\n",
    "fig, ax = plt.subplots()\n",
    "plt.scatter(zreal, zimag, label='Data')\n",
    "plt.plot(Zreal_fit, Zimm_fit, label='Fitted data', color='red')\n",
    "plt.xlabel('Zreal')\n",
    "plt.ylabel('-Zimm')\n",
    "plt.title('Zreal vs -Zimm')\n",
    "plt.legend()\n",
    "plt.show()"
   ]
  },
  {
   "cell_type": "code",
   "execution_count": 22,
   "id": "01727801",
   "metadata": {},
   "outputs": [
    {
     "name": "stdout",
     "output_type": "stream",
     "text": [
      "0.0009708252038786099\n"
     ]
    }
   ],
   "source": [
    "Rfd=(5.00e+00*4.55e-04*8.314*303)/(1.82e+04*1.16e-01*(96485.33)**2)*(1/(8.00e-04 *5.70e-07)+(1/(8.00e-04*1.10e-06)))\n",
    "print(Rfd)"
   ]
  },
  {
   "cell_type": "code",
   "execution_count": null,
   "id": "09011670-24ae-4766-b20b-16f2e6d4a0e9",
   "metadata": {},
   "outputs": [],
   "source": []
  },
  {
   "cell_type": "code",
   "execution_count": 83,
   "id": "4f5819f3",
   "metadata": {},
   "outputs": [
    {
     "name": "stdout",
     "output_type": "stream",
     "text": [
      "0.09118682076916498\n"
     ]
    }
   ],
   "source": [
    "Rfd=(5.00e+00*0.0009*8.314*303)/(260*0.18*(96485.33)**2)*(1/(7.6e-04 *5.70e-07)+(1/(7.6e-04*1.10e-06)))\n",
    "print(Rfd)"
   ]
  }
 ],
 "metadata": {
  "kernelspec": {
   "display_name": "Python 3 (ipykernel)",
   "language": "python",
   "name": "python3"
  },
  "language_info": {
   "codemirror_mode": {
    "name": "ipython",
    "version": 3
   },
   "file_extension": ".py",
   "mimetype": "text/x-python",
   "name": "python",
   "nbconvert_exporter": "python",
   "pygments_lexer": "ipython3",
   "version": "3.11.7"
  }
 },
 "nbformat": 4,
 "nbformat_minor": 5
}
