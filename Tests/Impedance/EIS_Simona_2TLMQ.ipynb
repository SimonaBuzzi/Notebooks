{
 "cells": [
  {
   "cell_type": "code",
   "execution_count": 1,
   "id": "e525a654-cb42-4b90-ba49-6d032ba04fae",
   "metadata": {},
   "outputs": [],
   "source": [
    "from impedance import preprocessing\n",
    "import matplotlib.pyplot as plt\n",
    "from impedance.visualization import plot_nyquist\n",
    "import pandas as pd"
   ]
  },
  {
   "cell_type": "code",
   "execution_count": 2,
   "id": "720f989f",
   "metadata": {},
   "outputs": [
    {
     "name": "stdout",
     "output_type": "stream",
     "text": [
      "PYTHONPATH: C:\\Program Files\\PerkinElmerInformatics\\ChemOffice2018\\ChemScript\\Lib\n",
      "PATH: C:\\Users\\20224751\\AppData\\Local\\miniconda3\\envs\\impedance-analysis;C:\\Users\\20224751\\AppData\\Local\\miniconda3\\envs\\impedance-analysis\\Library\\mingw-w64\\bin;C:\\Users\\20224751\\AppData\\Local\\miniconda3\\envs\\impedance-analysis\\Library\\usr\\bin;C:\\Users\\20224751\\AppData\\Local\\miniconda3\\envs\\impedance-analysis\\Library\\bin;C:\\Users\\20224751\\AppData\\Local\\miniconda3\\envs\\impedance-analysis\\Scripts;C:\\Users\\20224751\\AppData\\Local\\miniconda3\\envs\\impedance-analysis\\bin;C:\\Users\\20224751\\AppData\\Local\\miniconda3\\condabin;C:\\Program Files\\PerkinElmerInformatics\\ChemOffice2018\\ChemScript\\Lib;C:\\windows\\system32;C:\\windows;C:\\windows\\System32\\Wbem;C:\\windows\\System32\\WindowsPowerShell\\v1.0;C:\\windows\\System32\\OpenSSH;C:\\Program Files\\MATLAB\\R2021a\\runtime\\win64;C:\\Program Files\\MATLAB\\R2021a\\bin;C:\\Program Files\\Wolfram Research\\WolframScript;C:\\Users\\20224751\\AppData\\Local\\Programs\\Python\\Launcher;C:\\Users\\20224751\\AppData\\Local\\Microsoft\\WindowsApps;.;C:\\Users\\20224751\\AppData\\Local\\Programs\\Microsoft VS Code\\bin\n"
     ]
    }
   ],
   "source": [
    "import os\n",
    "print(\"PYTHONPATH:\", os.environ.get('PYTHONPATH'))\n",
    "print(\"PATH:\", os.environ.get('PATH'))"
   ]
  },
  {
   "cell_type": "markdown",
   "id": "5f647da3-03ba-4e11-ad3b-93a530360501",
   "metadata": {},
   "source": [
    "### load data CR=0\n",
    "readBioLogic() requires a single impedance sequence in the file\n",
    "  \n",
    "  https://daringfireball.net/projects/markdown/ \n",
    "  \n",
    "$x=\\dfrac{1}{y^3}$  "
   ]
  },
  {
   "cell_type": "code",
   "execution_count": 3,
   "id": "52ff2f0a",
   "metadata": {
    "tags": []
   },
   "outputs": [],
   "source": [
    "#frequencies, Z = preprocessing.readBioLogic('Downloads/EIS data/S7_3cms_center_IDFF_585um_240823_longEIS_C03.mpt') "
   ]
  },
  {
   "cell_type": "code",
   "execution_count": 4,
   "id": "4ee3d36f-800b-46fd-bf2c-6134089f0a33",
   "metadata": {
    "tags": []
   },
   "outputs": [
    {
     "name": "stdout",
     "output_type": "stream",
     "text": [
      "        freq/Hz  Re(Z)/Ohm  Im(Z)/Ohm\n",
      "0   200000.0000      0.431   -2.43000\n",
      "1   135000.0000      0.413   -1.65000\n",
      "2    91700.0000      0.408   -1.11000\n",
      "3    62100.0000      0.407   -0.73500\n",
      "4    42100.0000      0.411   -0.47700\n",
      "5    28500.0000      0.418   -0.29500\n",
      "6    19300.0000      0.431   -0.16500\n",
      "7    13100.0000      0.448   -0.06820\n",
      "8     8850.0000      0.470    0.00514\n",
      "9     5990.0000      0.498    0.06530\n",
      "10    4060.0000      0.532    0.11800\n",
      "11    2750.0000      0.578    0.16700\n",
      "12    1860.0000      0.638    0.21100\n",
      "13    1260.0000      0.715    0.24300\n",
      "14     853.0000      0.801    0.25400\n",
      "15     578.0000      0.884    0.24500\n",
      "16     391.0000      0.955    0.21900\n",
      "17     265.0000      1.010    0.18900\n",
      "18     179.0000      1.040    0.16300\n",
      "19     122.0000      1.070    0.14500\n",
      "20      82.3000      1.100    0.13700\n",
      "21      55.7000      1.120    0.13800\n",
      "22      37.7000      1.150    0.14500\n",
      "23      25.6000      1.180    0.16100\n",
      "24      17.3000      1.220    0.17900\n",
      "25      11.7000      1.270    0.19600\n",
      "26       7.9400      1.320    0.21500\n",
      "27       5.3700      1.380    0.22900\n",
      "28       3.6400      1.450    0.23600\n",
      "29       2.4700      1.520    0.23600\n",
      "30       1.6700      1.590    0.22400\n",
      "31       1.1300      1.650    0.20700\n",
      "32       0.7660      1.700    0.18700\n",
      "33       0.5190      1.740    0.16900\n",
      "34       0.3510      1.780    0.15100\n",
      "35       0.2380      1.820    0.13500\n",
      "36       0.1610      1.850    0.11600\n",
      "37       0.1090      1.880    0.09720\n",
      "38       0.0658      1.910    0.07370\n",
      "39       0.0444      1.930    0.05550\n",
      "40       0.0300      1.940    0.04210\n"
     ]
    }
   ],
   "source": [
    "import pandas as pd\n",
    "import numpy as np\n",
    "import matplotlib.pyplot as plt\n",
    "\n",
    "file_path = r'C:\\Users\\20224751\\Downloads\\EIS_data_py.csv'\n",
    "\n",
    "df = pd.read_csv(file_path)\n",
    "\n",
    "print(df.to_string()) "
   ]
  },
  {
   "cell_type": "code",
   "execution_count": 5,
   "id": "5d953c77-ce3d-4bff-a433-1850cf1366a8",
   "metadata": {
    "tags": []
   },
   "outputs": [
    {
     "name": "stdout",
     "output_type": "stream",
     "text": [
      "Index(['freq/Hz', 'Re(Z)/Ohm', 'Im(Z)/Ohm'], dtype='object')\n",
      "        freq/Hz  Re(Z)/Ohm  Im(Z)/Ohm\n",
      "0   200000.0000      0.431   -2.43000\n",
      "1   135000.0000      0.413   -1.65000\n",
      "2    91700.0000      0.408   -1.11000\n",
      "3    62100.0000      0.407   -0.73500\n",
      "4    42100.0000      0.411   -0.47700\n",
      "5    28500.0000      0.418   -0.29500\n",
      "6    19300.0000      0.431   -0.16500\n",
      "7    13100.0000      0.448   -0.06820\n",
      "8     8850.0000      0.470    0.00514\n",
      "9     5990.0000      0.498    0.06530\n",
      "10    4060.0000      0.532    0.11800\n",
      "11    2750.0000      0.578    0.16700\n",
      "12    1860.0000      0.638    0.21100\n",
      "13    1260.0000      0.715    0.24300\n",
      "14     853.0000      0.801    0.25400\n",
      "15     578.0000      0.884    0.24500\n",
      "16     391.0000      0.955    0.21900\n",
      "17     265.0000      1.010    0.18900\n",
      "18     179.0000      1.040    0.16300\n",
      "19     122.0000      1.070    0.14500\n",
      "20      82.3000      1.100    0.13700\n",
      "21      55.7000      1.120    0.13800\n",
      "22      37.7000      1.150    0.14500\n",
      "23      25.6000      1.180    0.16100\n",
      "24      17.3000      1.220    0.17900\n",
      "25      11.7000      1.270    0.19600\n",
      "26       7.9400      1.320    0.21500\n",
      "27       5.3700      1.380    0.22900\n",
      "28       3.6400      1.450    0.23600\n",
      "29       2.4700      1.520    0.23600\n",
      "30       1.6700      1.590    0.22400\n",
      "31       1.1300      1.650    0.20700\n",
      "32       0.7660      1.700    0.18700\n",
      "33       0.5190      1.740    0.16900\n",
      "34       0.3510      1.780    0.15100\n",
      "35       0.2380      1.820    0.13500\n",
      "36       0.1610      1.850    0.11600\n",
      "37       0.1090      1.880    0.09720\n",
      "38       0.0658      1.910    0.07370\n",
      "39       0.0444      1.930    0.05550\n",
      "40       0.0300      1.940    0.04210\n"
     ]
    }
   ],
   "source": [
    "df.columns = [col.strip() for col in df.columns]\n",
    "print(df.columns)\n",
    "print(df)"
   ]
  },
  {
   "cell_type": "code",
   "execution_count": 6,
   "id": "fad8ec0f-3f46-4822-8bfa-524d39e822a6",
   "metadata": {},
   "outputs": [
    {
     "data": {
      "text/plain": [
       "Index(['freq/Hz', 'Re(Z)/Ohm', 'Im(Z)/Ohm'], dtype='object')"
      ]
     },
     "execution_count": 6,
     "metadata": {},
     "output_type": "execute_result"
    }
   ],
   "source": [
    "df.columns"
   ]
  },
  {
   "cell_type": "code",
   "execution_count": 7,
   "id": "40d58ab9-58c3-4e24-8fb8-4798fcbe0d81",
   "metadata": {
    "tags": []
   },
   "outputs": [],
   "source": [
    "data = df.loc[(df['Im(Z)/Ohm'])>-0.6]"
   ]
  },
  {
   "cell_type": "code",
   "execution_count": 8,
   "id": "db598655-62a1-4b6b-9861-a77c2eae2402",
   "metadata": {},
   "outputs": [
    {
     "name": "stdout",
     "output_type": "stream",
     "text": [
      "[0.411+0.477j   0.418+0.295j   0.431+0.165j   0.448+0.0682j\n",
      " 0.47 -0.00514j 0.498-0.0653j  0.532-0.118j   0.578-0.167j\n",
      " 0.638-0.211j   0.715-0.243j   0.801-0.254j   0.884-0.245j\n",
      " 0.955-0.219j   1.01 -0.189j   1.04 -0.163j   1.07 -0.145j\n",
      " 1.1  -0.137j   1.12 -0.138j   1.15 -0.145j   1.18 -0.161j\n",
      " 1.22 -0.179j   1.27 -0.196j   1.32 -0.215j   1.38 -0.229j\n",
      " 1.45 -0.236j   1.52 -0.236j   1.59 -0.224j   1.65 -0.207j\n",
      " 1.7  -0.187j   1.74 -0.169j   1.78 -0.151j   1.82 -0.135j\n",
      " 1.85 -0.116j   1.88 -0.0972j  1.91 -0.0737j  1.93 -0.0555j\n",
      " 1.94 -0.0421j ]\n"
     ]
    }
   ],
   "source": [
    "z=data['Re(Z)/Ohm'].values-1j*data['Im(Z)/Ohm'].values\n",
    "print(z)"
   ]
  },
  {
   "cell_type": "code",
   "execution_count": 9,
   "id": "3da14fe7-d842-4b0d-ae1a-200281d608d4",
   "metadata": {},
   "outputs": [
    {
     "name": "stdout",
     "output_type": "stream",
     "text": [
      "[4.21e+04 2.85e+04 1.93e+04 1.31e+04 8.85e+03 5.99e+03 4.06e+03 2.75e+03\n",
      " 1.86e+03 1.26e+03 8.53e+02 5.78e+02 3.91e+02 2.65e+02 1.79e+02 1.22e+02\n",
      " 8.23e+01 5.57e+01 3.77e+01 2.56e+01 1.73e+01 1.17e+01 7.94e+00 5.37e+00\n",
      " 3.64e+00 2.47e+00 1.67e+00 1.13e+00 7.66e-01 5.19e-01 3.51e-01 2.38e-01\n",
      " 1.61e-01 1.09e-01 6.58e-02 4.44e-02 3.00e-02]\n"
     ]
    }
   ],
   "source": [
    "f_data = df.loc[(df['freq/Hz'])<62100.0000]\n",
    "a_f= np.array(f_data['freq/Hz'])\n",
    "print(a_f)"
   ]
  },
  {
   "cell_type": "code",
   "execution_count": 10,
   "id": "e629dd28-f953-4c07-8153-f0d00e5253ae",
   "metadata": {},
   "outputs": [
    {
     "data": {
      "image/png": "[encoded data removed]",
      "text/plain": [
       "<Figure size 640x480 with 1 Axes>"
      ]
     },
     "metadata": {},
     "output_type": "display_data"
    }
   ],
   "source": [
    "fig, ax = plt.subplots()\n",
    "ax.plot(z.real, -z.imag, marker='o',mfc='none',ls='none')\n",
    "ax.set_xlabel(r'Z$_{real}$', size=14)\n",
    "ax.set_ylabel(r'-Z$_{imag}$',size=14)\n",
    "ax.set_aspect('equal')"
   ]
  },
  {
   "cell_type": "code",
   "execution_count": 14,
   "id": "b690f371-06f3-432f-a056-fdb57dfa9259",
   "metadata": {},
   "outputs": [],
   "source": [
    "#from impedance.models.circuits import CustomCircuit\n",
    "\n",
    "#circuit = 'L0-p(R1,CPE1)-R0-TLMQ0'\n",
    "#initial_guess = [1e-9, 0.04, 1e-5, 0.1, 0.5, 1, 1e-5, 0.1]\n",
    "\n",
    "#circuit = CustomCircuit(circuit, initial_guess=initial_guess)"
   ]
  },
  {
   "cell_type": "code",
   "execution_count": 11,
   "id": "2470a7a7-71ef-4e86-96d1-6d30c44e2b10",
   "metadata": {},
   "outputs": [],
   "source": [
    "from impedance.models.circuits import CustomCircuit\n",
    "\n",
    "initial_guess = initial_guess=[1.37e-07,1e-01,1e-5,0.8,1e-01,None,1000,2.55e-04,None,None,None,None,None,10,1e-7,2e-6,0.8,None,None,None],\n",
    "constants = {'L0': 1.95e-06, 'R0': 1.30e-01}\n",
    "circuit=CustomCircuit(circuit='L0-p(R1,CPE1)-R0-TLMQ0'\n",
    "bounds = ([0.078,0,0.8],[100,np.inf,1])\n",
    "\n",
    "circuit = CustomCircuit(initial_guess=initial_guess, constants=constants, circuit=circuit)"
   ]
  },
  {
   "cell_type": "markdown",
   "id": "43f5b1cf-9db5-47c3-9b9d-54eedf09a595",
   "metadata": {
    "tags": []
   },
   "source": [
    "### Fitting"
   ]
  },
  {
   "cell_type": "markdown",
   "id": "3a6220b2-cd08-4732-afb1-cc13c94d3606",
   "metadata": {},
   "source": [
    "Freq is used in the model together with Z (impedance- uses ReZ and ImZ)"
   ]
  },
  {
   "cell_type": "code",
   "execution_count": 12,
   "id": "b5e970e1-95e0-4f2d-9a24-f20675449ac6",
   "metadata": {
    "tags": []
   },
   "outputs": [
    {
     "name": "stdout",
     "output_type": "stream",
     "text": [
      "\n",
      "Circuit string: L0-R0-TLMQ0\n",
      "Fit: True\n",
      "\n",
      "Constants:\n",
      "     L0 = 1.95e-06 [H]\n",
      "     R0 = 1.30e-01 [Ohm]\n",
      "\n",
      "Initial guesses:\n",
      "  TLMQ0_0 = 1.00e+00 [Ohm]\n",
      "  TLMQ0_1 = 1.00e-03 [F sec^(gamma - 1)]\n",
      "  TLMQ0_2 = 9.00e-01 []\n",
      "\n",
      "Fit parameters:\n",
      "  TLMQ0_0 = 1.65e+01  (+/- 2.86e+05) [Ohm]\n",
      "  TLMQ0_1 = 5.67e+00  (+/- 9.84e+04) [F sec^(gamma - 1)]\n",
      "  TLMQ0_2 = 2.03e-01  (+/- 9.07e-03) []\n",
      "\n"
     ]
    }
   ],
   "source": [
    "# Model fit\n",
    "circuit.fit(a_f, z)\n",
    "print(circuit)"
   ]
  },
  {
   "cell_type": "code",
   "execution_count": 13,
   "id": "f4dbf7cf-314f-4d39-8778-a2b15beb281f",
   "metadata": {
    "tags": []
   },
   "outputs": [
    {
     "name": "stdout",
     "output_type": "stream",
     "text": [
      "[0.60439863+0.43952924j 0.62356286+0.26981734j 0.64348329+0.15389355j\n",
      " 0.66408269+0.07461722j 0.68577367+0.01905716j 0.7082359 -0.01959636j\n",
      " 0.7315194 -0.04698739j 0.75578324-0.06693969j 0.78112114-0.08191879j\n",
      " 0.80737773-0.09349248j 0.83473909-0.10287916j 0.86313706-0.11081525j\n",
      " 0.89280946-0.11787808j 0.92353067-0.12436219j 0.95577125-0.13060054j\n",
      " 0.98853887-0.13656833j 1.02353913-0.1426832j  1.05965866-0.14881755j\n",
      " 1.09723129-0.15508021j 1.13599028-0.16146136j 1.17681426-0.16812803j\n",
      " 1.21920998-0.17501437j 1.2629268 -0.18209061j 1.30880619-0.18950005j\n",
      " 1.35626453-0.1971531j  1.40549386-0.20508409j 1.45718834-0.21340697j\n",
      " 1.51086742-0.22204581j 1.56645288-0.23098906j 1.62434983-0.24030259j\n",
      " 1.68487062-0.2500371j  1.74741522-0.26009639j 1.81287719-0.27062439j\n",
      " 1.88084467-0.281555j   1.97288388-0.29635654j 2.0479606 -0.30843007j\n",
      " 2.12582462-0.32095182j]\n"
     ]
    }
   ],
   "source": [
    "# new value of impedance predicted\n",
    "Z_fit = circuit.predict(a_f)\n",
    "print(Z_fit)"
   ]
  },
  {
   "cell_type": "code",
   "execution_count": 14,
   "id": "17c18f11-5b9c-48bf-8e3b-c2b1347aa0c1",
   "metadata": {
    "tags": []
   },
   "outputs": [
    {
     "name": "stdout",
     "output_type": "stream",
     "text": [
      "[0.60439863 0.62356286 0.64348329 0.66408269 0.68577367 0.7082359\n",
      " 0.7315194  0.75578324 0.78112114 0.80737773 0.83473909 0.86313706\n",
      " 0.89280946 0.92353067 0.95577125 0.98853887 1.02353913 1.05965866\n",
      " 1.09723129 1.13599028 1.17681426 1.21920998 1.2629268  1.30880619\n",
      " 1.35626453 1.40549386 1.45718834 1.51086742 1.56645288 1.62434983\n",
      " 1.68487062 1.74741522 1.81287719 1.88084467 1.97288388 2.0479606\n",
      " 2.12582462]\n",
      "[-0.43952924 -0.26981734 -0.15389355 -0.07461722 -0.01905716  0.01959636\n",
      "  0.04698739  0.06693969  0.08191879  0.09349248  0.10287916  0.11081525\n",
      "  0.11787808  0.12436219  0.13060054  0.13656833  0.1426832   0.14881755\n",
      "  0.15508021  0.16146136  0.16812803  0.17501437  0.18209061  0.18950005\n",
      "  0.1971531   0.20508409  0.21340697  0.22204581  0.23098906  0.24030259\n",
      "  0.2500371   0.26009639  0.27062439  0.281555    0.29635654  0.30843007\n",
      "  0.32095182]\n"
     ]
    }
   ],
   "source": [
    "Zreal_fit=Z_fit.real\n",
    "Zimm_fit=-Z_fit.imag\n",
    "print(Zreal_fit)\n",
    "print(Zimm_fit)"
   ]
  },
  {
   "cell_type": "code",
   "execution_count": 15,
   "id": "3188646f-da60-4b55-8d9d-f8d5fbe2ed6a",
   "metadata": {
    "tags": []
   },
   "outputs": [],
   "source": [
    "#!pip install --upgrade impedance"
   ]
  },
  {
   "cell_type": "code",
   "execution_count": 17,
   "id": "c5a212f8-2719-4910-8d73-f9814cc68b7c",
   "metadata": {
    "tags": []
   },
   "outputs": [
    {
     "name": "stdout",
     "output_type": "stream",
     "text": [
      "[0.411+0.477j   0.418+0.295j   0.431+0.165j   0.448+0.0682j\n",
      " 0.47 -0.00514j 0.498-0.0653j  0.532-0.118j   0.578-0.167j\n",
      " 0.638-0.211j   0.715-0.243j   0.801-0.254j   0.884-0.245j\n",
      " 0.955-0.219j   1.01 -0.189j   1.04 -0.163j   1.07 -0.145j\n",
      " 1.1  -0.137j   1.12 -0.138j   1.15 -0.145j   1.18 -0.161j\n",
      " 1.22 -0.179j   1.27 -0.196j   1.32 -0.215j   1.38 -0.229j\n",
      " 1.45 -0.236j   1.52 -0.236j   1.59 -0.224j   1.65 -0.207j\n",
      " 1.7  -0.187j   1.74 -0.169j   1.78 -0.151j   1.82 -0.135j\n",
      " 1.85 -0.116j   1.88 -0.0972j  1.91 -0.0737j  1.93 -0.0555j\n",
      " 1.94 -0.0421j ]\n"
     ]
    }
   ],
   "source": [
    "print(z)"
   ]
  },
  {
   "cell_type": "code",
   "execution_count": 18,
   "id": "7427cf91-fcaf-4314-9e31-ea46acf941c1",
   "metadata": {
    "tags": []
   },
   "outputs": [
    {
     "name": "stdout",
     "output_type": "stream",
     "text": [
      "[0.411 0.418 0.431 0.448 0.47  0.498 0.532 0.578 0.638 0.715 0.801 0.884\n",
      " 0.955 1.01  1.04  1.07  1.1   1.12  1.15  1.18  1.22  1.27  1.32  1.38\n",
      " 1.45  1.52  1.59  1.65  1.7   1.74  1.78  1.82  1.85  1.88  1.91  1.93\n",
      " 1.94 ]\n",
      "[-0.477   -0.295   -0.165   -0.0682   0.00514  0.0653   0.118    0.167\n",
      "  0.211    0.243    0.254    0.245    0.219    0.189    0.163    0.145\n",
      "  0.137    0.138    0.145    0.161    0.179    0.196    0.215    0.229\n",
      "  0.236    0.236    0.224    0.207    0.187    0.169    0.151    0.135\n",
      "  0.116    0.0972   0.0737   0.0555   0.0421 ]\n"
     ]
    }
   ],
   "source": [
    "zreal=z.real\n",
    "zimag=-z.imag\n",
    "print(zreal)\n",
    "print(zimag)"
   ]
  },
  {
   "cell_type": "code",
   "execution_count": 19,
   "id": "2aa62688-8137-4f3f-aea3-02b6c34d270a",
   "metadata": {},
   "outputs": [
    {
     "data": {
      "image/png": "[encoded data removed]",
      "text/plain": [
       "<Figure size 640x480 with 1 Axes>"
      ]
     },
     "metadata": {},
     "output_type": "display_data"
    }
   ],
   "source": [
    "import matplotlib.pyplot as plt\n",
    "\n",
    "fig, ax = plt.subplots()\n",
    "plt.scatter(zreal, zimag, label='Data')\n",
    "plt.plot(Zreal_fit, Zimm_fit, label='Fitted data', color='red')\n",
    "plt.xlabel('Zreal')\n",
    "plt.ylabel('-Zimm')\n",
    "plt.title('Zreal vs -Zimm')\n",
    "plt.legend()\n",
    "plt.show()"
   ]
  },
  {
   "cell_type": "code",
   "execution_count": 22,
   "id": "01727801",
   "metadata": {},
   "outputs": [
    {
     "name": "stdout",
     "output_type": "stream",
     "text": [
      "0.0009708252038786099\n"
     ]
    }
   ],
   "source": [
    "Rfd=(5.00e+00*4.55e-04*8.314*303)/(1.82e+04*1.16e-01*(96485.33)**2)*(1/(8.00e-04 *5.70e-07)+(1/(8.00e-04*1.10e-06)))\n",
    "print(Rfd)"
   ]
  },
  {
   "cell_type": "code",
   "execution_count": 83,
   "id": "4f5819f3",
   "metadata": {},
   "outputs": [
    {
     "name": "stdout",
     "output_type": "stream",
     "text": [
      "0.09118682076916498\n"
     ]
    }
   ],
   "source": [
    "Rfd=(5.00e+00*0.0009*8.314*303)/(260*0.18*(96485.33)**2)*(1/(7.6e-04 *5.70e-07)+(1/(7.6e-04*1.10e-06)))\n",
    "print(Rfd)"
   ]
  }
 ],
 "metadata": {
  "kernelspec": {
   "display_name": "Python 3 (ipykernel)",
   "language": "python",
   "name": "python3"
  },
  "language_info": {
   "codemirror_mode": {
    "name": "ipython",
    "version": 3
   },
   "file_extension": ".py",
   "mimetype": "text/x-python",
   "name": "python",
   "nbconvert_exporter": "python",
   "pygments_lexer": "ipython3",
   "version": "3.11.7"
  }
 },
 "nbformat": 4,
 "nbformat_minor": 5
}
