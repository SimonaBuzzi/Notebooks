{
 "cells": [
  {
   "cell_type": "code",
   "execution_count": 9,
   "id": "e525a654-cb42-4b90-ba49-6d032ba04fae",
   "metadata": {},
   "outputs": [],
   "source": [
    "import matplotlib.pyplot as plt\n",
    "from impedance.visualization import plot_nyquist\n",
    "import pandas as pd\n",
    "import numpy as np"
   ]
  },
  {
   "cell_type": "code",
   "execution_count": 10,
   "id": "6a809381-d9b9-42d1-b305-67972bc49123",
   "metadata": {
    "tags": []
   },
   "outputs": [
    {
     "name": "stdout",
     "output_type": "stream",
     "text": [
      "        freq/Hz  Re(Z)/Ohm  Im(Z)/Ohm\n",
      "0   200000.0000      0.228  -2.440000\n",
      "1   135000.0000      0.216  -1.660000\n",
      "2    91700.0000      0.213  -1.120000\n",
      "3    62100.0000      0.215  -0.755000\n",
      "4    42100.0000      0.216  -0.509000\n",
      "5    28500.0000      0.217  -0.344000\n",
      "6    19300.0000      0.218  -0.232000\n",
      "7    13100.0000      0.218  -0.154000\n",
      "8     8850.0000      0.219  -0.104000\n",
      "9     5990.0000      0.219  -0.069900\n",
      "10    4060.0000      0.219  -0.047000\n",
      "11    2750.0000      0.220  -0.031200\n",
      "12    1860.0000      0.220  -0.020400\n",
      "13    1260.0000      0.220  -0.013000\n",
      "14     853.0000      0.220  -0.007430\n",
      "15     578.0000      0.221  -0.003980\n",
      "16     391.0000      0.221  -0.001230\n",
      "17     265.0000      0.222   0.001050\n",
      "18     179.0000      0.223   0.002880\n",
      "19     122.0000      0.224   0.004280\n",
      "20      82.3000      0.225   0.005740\n",
      "21      55.7000      0.227   0.006950\n",
      "22      37.7000      0.229   0.008070\n",
      "23      25.6000      0.231   0.008690\n",
      "24      17.3000      0.234   0.009280\n",
      "25      11.7000      0.236   0.009780\n",
      "26       7.9400      0.239   0.010100\n",
      "27       5.3700      0.242   0.010400\n",
      "28       3.6400      0.245   0.010200\n",
      "29       2.4600      0.248   0.009700\n",
      "30       1.6700      0.251   0.009050\n",
      "31       1.1300      0.253   0.007800\n",
      "32       0.7660      0.255   0.006400\n",
      "33       0.5190      0.256   0.004970\n",
      "34       0.3510      0.257   0.003860\n",
      "35       0.2380      0.258   0.002890\n",
      "36       0.1610      0.259   0.002180\n",
      "37       0.1090      0.259   0.001690\n",
      "38       0.0738      0.260   0.001380\n",
      "39       0.0500      0.260   0.000929\n"
     ]
    }
   ],
   "source": [
    "# Import your data.csv \n",
    "file_path = r'C:\\Users\\20224751\\Downloads/S2_test.csv'\n",
    "\n",
    "df = pd.read_csv(file_path)\n",
    "\n",
    "print(df.to_string()) "
   ]
  },
  {
   "cell_type": "code",
   "execution_count": 11,
   "id": "5d953c77-ce3d-4bff-a433-1850cf1366a8",
   "metadata": {
    "tags": []
   },
   "outputs": [
    {
     "name": "stdout",
     "output_type": "stream",
     "text": [
      "Index(['freq/Hz', 'Re(Z)/Ohm', 'Im(Z)/Ohm'], dtype='object')\n"
     ]
    }
   ],
   "source": [
    "# Remove white spaces from each column name\n",
    "df.columns = [col.strip() for col in df.columns]\n",
    "print(df.columns)"
   ]
  },
  {
   "cell_type": "code",
   "execution_count": 12,
   "id": "fad8ec0f-3f46-4822-8bfa-524d39e822a6",
   "metadata": {},
   "outputs": [
    {
     "data": {
      "text/plain": [
       "Index(['freq/Hz', 'Re(Z)/Ohm', 'Im(Z)/Ohm'], dtype='object')"
      ]
     },
     "execution_count": 12,
     "metadata": {},
     "output_type": "execute_result"
    }
   ],
   "source": [
    "df.columns"
   ]
  },
  {
   "cell_type": "code",
   "execution_count": 16,
   "id": "40d58ab9-58c3-4e24-8fb8-4798fcbe0d81",
   "metadata": {
    "tags": []
   },
   "outputs": [],
   "source": [
    "data = df.loc[(df['Im(Z)/Ohm'])>-0.013000]"
   ]
  },
  {
   "cell_type": "code",
   "execution_count": 17,
   "id": "db598655-62a1-4b6b-9861-a77c2eae2402",
   "metadata": {},
   "outputs": [
    {
     "name": "stdout",
     "output_type": "stream",
     "text": [
      "(26,)\n"
     ]
    }
   ],
   "source": [
    "z=data['Re(Z)/Ohm'].values-1j*data['Im(Z)/Ohm'].values\n",
    "print(z.shape)"
   ]
  },
  {
   "cell_type": "code",
   "execution_count": 18,
   "id": "3da14fe7-d842-4b0d-ae1a-200281d608d4",
   "metadata": {},
   "outputs": [
    {
     "name": "stdout",
     "output_type": "stream",
     "text": [
      "(26,)\n"
     ]
    }
   ],
   "source": [
    "f_data = df.loc[(df['freq/Hz'])<1260.0000] #<13000\n",
    "a_f= np.array(f_data['freq/Hz'])\n",
    "print(a_f.shape)"
   ]
  },
  {
   "cell_type": "code",
   "execution_count": 19,
   "id": "e629dd28-f953-4c07-8153-f0d00e5253ae",
   "metadata": {},
   "outputs": [
    {
     "data": {
      "image/png": "[encoded data removed]",
      "text/plain": [
       "<Figure size 640x480 with 1 Axes>"
      ]
     },
     "metadata": {},
     "output_type": "display_data"
    }
   ],
   "source": [
    "fig, ax = plt.subplots()\n",
    "ax.plot(z.real, -z.imag, marker='o',mfc='none',ls='none')\n",
    "ax.set_xlabel(r'Z$_{real}$', size=14)\n",
    "ax.set_ylabel(r'-Z$_{imag}$',size=14)\n",
    "ax.set_aspect('equal')\n",
    "plt.grid()"
   ]
  },
  {
   "cell_type": "markdown",
   "id": "ab1fcc3a-6285-49bb-b42f-0a6276b59062",
   "metadata": {},
   "source": [
    "TLMQ (Transmission Line Model with Constant Phase Element):\n",
    "\n",
    "Represents a transmission line model with a CPE.\n",
    "It has several parameters including R, L, Q, alpha, n, tau0, A, Lq, Ld, Cq, Cd, Rq, Rd."
   ]
  },
  {
   "cell_type": "markdown",
   "id": "2a889e0d-5e19-4276-bc97-07a7f6286a51",
   "metadata": {
    "tags": []
   },
   "source": [
    "import math\n",
    "pi=math.pi\n",
    "w = 2*pi*a_f\n",
    "print(w)"
   ]
  },
  {
   "cell_type": "code",
   "execution_count": 28,
   "id": "c4c32a33-2af8-4a8e-92a8-a8d4f49113b8",
   "metadata": {},
   "outputs": [],
   "source": [
    "#def Z_CPE(w, Q0, n):\n",
    "    #return (1 / (Q0 * (w ** n))) * np.exp(-1j * (pi / 2) * n)\n",
    "\n",
    "#CPE=Z_CPE(w, 1e-5, 0.1)\n",
    "#CPE2 = Z_CPE(w, 1e-2, 0.1)\n",
    "\n",
    "#print(CPE)\n",
    "#print(CPE2)"
   ]
  },
  {
   "cell_type": "code",
   "execution_count": 20,
   "id": "60e02a1c-356e-4aeb-9944-d66e5cc04358",
   "metadata": {},
   "outputs": [],
   "source": [
    "# Circuit for the fit\n",
    "from impedance.models.circuits import CustomCircuit\n",
    "\n",
    "circuit = 'R0-p(R1,CPE1)-p(Wo1,CPE2)'\n",
    "initial_guess = [1e-9, .05, 1e-5, 0.1, .5, .5, 1e-2, 0.8]\n",
    "\n",
    "circuit = CustomCircuit(circuit, initial_guess=initial_guess)"
   ]
  },
  {
   "cell_type": "markdown",
   "id": "43f5b1cf-9db5-47c3-9b9d-54eedf09a595",
   "metadata": {
    "tags": []
   },
   "source": [
    "### Fitting"
   ]
  },
  {
   "cell_type": "markdown",
   "id": "3a6220b2-cd08-4732-afb1-cc13c94d3606",
   "metadata": {},
   "source": [
    "Freq is used in the model together with Z (impedance- uses ReZ and ImZ)"
   ]
  },
  {
   "cell_type": "code",
   "execution_count": 21,
   "id": "86b8009e-9aed-4920-9b46-a6a1d505e83e",
   "metadata": {},
   "outputs": [
    {
     "name": "stdout",
     "output_type": "stream",
     "text": [
      "(26,)\n",
      "(26,)\n"
     ]
    }
   ],
   "source": [
    "print(z.shape)\n",
    "print(a_f.shape)"
   ]
  },
  {
   "cell_type": "code",
   "execution_count": 22,
   "id": "b5e970e1-95e0-4f2d-9a24-f20675449ac6",
   "metadata": {
    "tags": []
   },
   "outputs": [
    {
     "name": "stdout",
     "output_type": "stream",
     "text": [
      "\n",
      "Circuit string: R0-p(R1,CPE1)-p(Wo1,CPE2)\n",
      "Fit: True\n",
      "\n",
      "Initial guesses:\n",
      "     R0 = 1.00e-09 [Ohm]\n",
      "     R1 = 5.00e-02 [Ohm]\n",
      "  CPE1_0 = 1.00e-05 [Ohm^-1 sec^a]\n",
      "  CPE1_1 = 1.00e-01 []\n",
      "  Wo1_0 = 5.00e-01 [Ohm]\n",
      "  Wo1_1 = 5.00e-01 [sec]\n",
      "  CPE2_0 = 1.00e-02 [Ohm^-1 sec^a]\n",
      "  CPE2_1 = 8.00e-01 []\n",
      "\n",
      "Fit parameters:\n",
      "     R0 = 2.21e-01  (+/- 9.23e-04) [Ohm]\n",
      "     R1 = 3.95e-02  (+/- 2.19e-03) [Ohm]\n",
      "  CPE1_0 = 2.18e+00  (+/- 3.27e-01) [Ohm^-1 sec^a]\n",
      "  CPE1_1 = 6.62e-01  (+/- 4.17e-02) []\n",
      "  Wo1_0 = 1.35e-13  (+/- 5.35e-03) [Ohm]\n",
      "  Wo1_1 = 2.42e+01  (+/- 0.00e+00) [sec]\n",
      "  CPE2_0 = 7.54e+00  (+/- 0.00e+00) [Ohm^-1 sec^a]\n",
      "  CPE2_1 = 1.59e-01  (+/- 0.00e+00) []\n",
      "\n"
     ]
    }
   ],
   "source": [
    "# Fit results\n",
    "circuit.fit(a_f, z)\n",
    "print(circuit)"
   ]
  },
  {
   "cell_type": "code",
   "execution_count": 23,
   "id": "f4dbf7cf-314f-4d39-8778-a2b15beb281f",
   "metadata": {
    "tags": []
   },
   "outputs": [
    {
     "name": "stdout",
     "output_type": "stream",
     "text": [
      "[0.22170141-0.00128942j 0.22195057-0.00164816j 0.22227994-0.002101j\n",
      " 0.22271221-0.00266195j 0.22328824-0.00335737j 0.22402985-0.00417665j\n",
      " 0.22503057-0.00516699j 0.22632735-0.00628602j 0.22799531-0.0075006j\n",
      " 0.23007288-0.00872226j 0.23262989-0.00985702j 0.23559966-0.0107391j\n",
      " 0.23884016-0.0112264j  0.24222206-0.01123851j 0.2454822 -0.01077089j\n",
      " 0.24847386-0.00990199j 0.25102319-0.00878895j 0.25314269-0.0075582j\n",
      " 0.25482363-0.00634538j 0.25613422-0.00522331j 0.2571438 -0.00423108j\n",
      " 0.25790655-0.00339296j 0.25848819-0.0026935j  0.25892759-0.00212511j\n",
      " 0.25926066-0.00166833j 0.25951333-0.00130529j]\n"
     ]
    }
   ],
   "source": [
    "Z_fit = circuit.predict(a_f)\n",
    "print(Z_fit)"
   ]
  },
  {
   "cell_type": "code",
   "execution_count": 24,
   "id": "17c18f11-5b9c-48bf-8e3b-c2b1347aa0c1",
   "metadata": {
    "tags": []
   },
   "outputs": [
    {
     "name": "stdout",
     "output_type": "stream",
     "text": [
      "[0.22170141 0.22195057 0.22227994 0.22271221 0.22328824 0.22402985\n",
      " 0.22503057 0.22632735 0.22799531 0.23007288 0.23262989 0.23559966\n",
      " 0.23884016 0.24222206 0.2454822  0.24847386 0.25102319 0.25314269\n",
      " 0.25482363 0.25613422 0.2571438  0.25790655 0.25848819 0.25892759\n",
      " 0.25926066 0.25951333]\n",
      "[0.00128942 0.00164816 0.002101   0.00266195 0.00335737 0.00417665\n",
      " 0.00516699 0.00628602 0.0075006  0.00872226 0.00985702 0.0107391\n",
      " 0.0112264  0.01123851 0.01077089 0.00990199 0.00878895 0.0075582\n",
      " 0.00634538 0.00522331 0.00423108 0.00339296 0.0026935  0.00212511\n",
      " 0.00166833 0.00130529]\n"
     ]
    }
   ],
   "source": [
    "Zreal_fit=Z_fit.real\n",
    "Zimm_fit=-Z_fit.imag\n",
    "print(Zreal_fit)\n",
    "print(Zimm_fit)"
   ]
  },
  {
   "cell_type": "code",
   "execution_count": 25,
   "id": "7427cf91-fcaf-4314-9e31-ea46acf941c1",
   "metadata": {
    "tags": []
   },
   "outputs": [
    {
     "name": "stdout",
     "output_type": "stream",
     "text": [
      "[0.22  0.221 0.221 0.222 0.223 0.224 0.225 0.227 0.229 0.231 0.234 0.236\n",
      " 0.239 0.242 0.245 0.248 0.251 0.253 0.255 0.256 0.257 0.258 0.259 0.259\n",
      " 0.26  0.26 ]\n",
      "[-0.00743  -0.00398  -0.00123   0.00105   0.00288   0.00428   0.00574\n",
      "  0.00695   0.00807   0.00869   0.00928   0.00978   0.0101    0.0104\n",
      "  0.0102    0.0097    0.00905   0.0078    0.0064    0.00497   0.00386\n",
      "  0.00289   0.00218   0.00169   0.00138   0.000929]\n"
     ]
    }
   ],
   "source": [
    "zreal=z.real\n",
    "zimag=-z.imag\n",
    "print(zreal)\n",
    "print(zimag)"
   ]
  },
  {
   "cell_type": "code",
   "execution_count": 26,
   "id": "2aa62688-8137-4f3f-aea3-02b6c34d270a",
   "metadata": {},
   "outputs": [
    {
     "data": {
      "image/png": "[encoded data removed]",
      "text/plain": [
       "<Figure size 640x480 with 1 Axes>"
      ]
     },
     "metadata": {},
     "output_type": "display_data"
    }
   ],
   "source": [
    "fig, ax = plt.subplots()\n",
    "plt.scatter(zreal, zimag, label='Data')\n",
    "plt.plot(Zreal_fit, Zimm_fit, label='Fitted data', color='red')\n",
    "ax.set_xlabel(r'Z$_{real}$', size=14)\n",
    "ax.set_ylabel(r'-Z$_{imag}$',size=14)\n",
    "plt.title('Zreal vs -Zimm')\n",
    "ax.set_aspect('equal')\n",
    "plt.legend()\n",
    "plt.grid()\n",
    "plt.show()"
   ]
  },
  {
   "cell_type": "code",
   "execution_count": 27,
   "id": "3944367c-f7be-43a3-a692-0e2dd37cc423",
   "metadata": {},
   "outputs": [
    {
     "name": "stdout",
     "output_type": "stream",
     "text": [
      "Mean Squared Error: 4.907117141333494e-06\n"
     ]
    }
   ],
   "source": [
    "from sklearn.metrics import mean_squared_error\n",
    "\n",
    "mse = mean_squared_error(zimag, Zimm_fit)\n",
    "print(\"Mean Squared Error:\", mse)"
   ]
  },
  {
   "cell_type": "code",
   "execution_count": null,
   "id": "1968e3b7-4ac3-4792-b7a5-8b6cf0102521",
   "metadata": {},
   "outputs": [],
   "source": []
  }
 ],
 "metadata": {
  "kernelspec": {
   "display_name": "Python 3 (ipykernel)",
   "language": "python",
   "name": "python3"
  },
  "language_info": {
   "codemirror_mode": {
    "name": "ipython",
    "version": 3
   },
   "file_extension": ".py",
   "mimetype": "text/x-python",
   "name": "python",
   "nbconvert_exporter": "python",
   "pygments_lexer": "ipython3",
   "version": "3.11.7"
  }
 },
 "nbformat": 4,
 "nbformat_minor": 5
}
